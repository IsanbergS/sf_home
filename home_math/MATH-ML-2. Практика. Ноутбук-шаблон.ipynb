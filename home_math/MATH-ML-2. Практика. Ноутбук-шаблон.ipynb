{
  "cells": [
    {
      "cell_type": "markdown",
      "id": "b054bd88",
      "metadata": {
        "id": "b054bd88"
      },
      "source": [
        "# <center> Линейная алгебра в контексте линейных методов. Практика.\n",
        "\n",
        "## <center> Прогнозирование выработки газа на скважинах."
      ]
    },
    {
      "cell_type": "markdown",
      "id": "325bc80b",
      "metadata": {
        "id": "325bc80b"
      },
      "source": [
        "## Постановка задачи"
      ]
    },
    {
      "cell_type": "markdown",
      "id": "8247bd54",
      "metadata": {
        "id": "8247bd54"
      },
      "source": [
        "У Василия, основателя компании «Газ-Таз-Ваз-Нефть», дела идут в гору: у него уже функционирует 200 скважин для добычи газа. В этом году он открывает 30 новых скважин. Однако в целях оптимизации расходов и повышения дохода Василию необходимо оценить, сколько денег будет приносить ему каждая из скважин, а также понять, какие факторы (параметры скважин) потенциально сильнее всего повлияют на объём добычи газа. Для этого Василий решил нанять вас как специалиста в области Data Science.\n",
        "\n",
        "Василий представляет вам набор данных о добыче газа на своих скважинах. Файл с данными вы можете скачать на платформе.\n",
        "\n",
        "**Признаки в данных:**\n",
        "\n",
        "* Well — идентификатор скважины;\n",
        "* Por — пористость скважины (%);\n",
        "* Perm — проницаемость скважины;\n",
        "* AI — акустический импеданс ($кг/м^2 * 10^6$);\n",
        "* Brittle — коэффициент хрупкости скважины (%);\n",
        "* TOC — общий органический углерод (%);\n",
        "* VR — коэффициент отражения витринита (%);\n",
        "* Prod — добыча газа в сутки (млн. кубических футов).\n",
        "\n",
        "**Ваша задача** — построить регрессионную модель, которая прогнозирует выработку газа на скважине (целевой признак — Prod) на основе остальных характеристик скважины, и проинтерпретировать результаты вашей модели.\n",
        "\n",
        "Разделим задачу на две части:\n",
        "* В первой мы построим простейшую модель линейной регрессии, проанализируем результаты её работы и выберем наиболее значимые факторы для прогнозирования.\n",
        "* Во второй мы займёмся построением модели полиномиальной регрессии с регуляризацией и посмотрим на итоговые результаты моделирования.\n"
      ]
    },
    {
      "cell_type": "markdown",
      "id": "d67d069e",
      "metadata": {
        "id": "d67d069e"
      },
      "source": [
        "Импортируем необходимые библиотеки:"
      ]
    },
    {
      "cell_type": "code",
      "execution_count": 30,
      "id": "83a555bc-8dff-4b7e-bba1-cd4f4a9e69b2",
      "metadata": {
        "id": "83a555bc-8dff-4b7e-bba1-cd4f4a9e69b2"
      },
      "outputs": [],
      "source": [
        "# Импорт библиотек\n",
        "import numpy as np # для работы с массивами\n",
        "import pandas as pd # для работы с DataFrame \n",
        "import seaborn as sns # библиотека для визуализации статистических данных\n",
        "import matplotlib.pyplot as plt # для построения графиков\n",
        "\n",
        "%matplotlib inline"
      ]
    },
    {
      "cell_type": "markdown",
      "id": "e689ddaf",
      "metadata": {
        "id": "e689ddaf"
      },
      "source": [
        "Прочитаем исходные данные:"
      ]
    },
    {
      "cell_type": "code",
      "execution_count": 31,
      "id": "b7b5cd9b-703f-4dbc-a6e3-61d583eafcac",
      "metadata": {
        "colab": {
          "base_uri": "https://localhost:8080/",
          "height": 206
        },
        "id": "b7b5cd9b-703f-4dbc-a6e3-61d583eafcac",
        "outputId": "d4e99a48-2a0d-4edd-f86c-617c44bf36d2"
      },
      "outputs": [
        {
          "data": {
            "text/html": [
              "<div>\n",
              "<style scoped>\n",
              "    .dataframe tbody tr th:only-of-type {\n",
              "        vertical-align: middle;\n",
              "    }\n",
              "\n",
              "    .dataframe tbody tr th {\n",
              "        vertical-align: top;\n",
              "    }\n",
              "\n",
              "    .dataframe thead th {\n",
              "        text-align: right;\n",
              "    }\n",
              "</style>\n",
              "<table border=\"1\" class=\"dataframe\">\n",
              "  <thead>\n",
              "    <tr style=\"text-align: right;\">\n",
              "      <th></th>\n",
              "      <th>Well</th>\n",
              "      <th>Por</th>\n",
              "      <th>Perm</th>\n",
              "      <th>AI</th>\n",
              "      <th>Brittle</th>\n",
              "      <th>TOC</th>\n",
              "      <th>VR</th>\n",
              "      <th>Prod</th>\n",
              "    </tr>\n",
              "  </thead>\n",
              "  <tbody>\n",
              "    <tr>\n",
              "      <th>0</th>\n",
              "      <td>1</td>\n",
              "      <td>12.08</td>\n",
              "      <td>2.92</td>\n",
              "      <td>2.80</td>\n",
              "      <td>81.40</td>\n",
              "      <td>1.16</td>\n",
              "      <td>2.31</td>\n",
              "      <td>4165.196191</td>\n",
              "    </tr>\n",
              "    <tr>\n",
              "      <th>1</th>\n",
              "      <td>2</td>\n",
              "      <td>12.38</td>\n",
              "      <td>3.53</td>\n",
              "      <td>3.22</td>\n",
              "      <td>46.17</td>\n",
              "      <td>0.89</td>\n",
              "      <td>1.88</td>\n",
              "      <td>3561.146205</td>\n",
              "    </tr>\n",
              "    <tr>\n",
              "      <th>2</th>\n",
              "      <td>3</td>\n",
              "      <td>14.02</td>\n",
              "      <td>2.59</td>\n",
              "      <td>4.01</td>\n",
              "      <td>72.80</td>\n",
              "      <td>0.89</td>\n",
              "      <td>2.72</td>\n",
              "      <td>4284.348574</td>\n",
              "    </tr>\n",
              "    <tr>\n",
              "      <th>3</th>\n",
              "      <td>4</td>\n",
              "      <td>17.67</td>\n",
              "      <td>6.75</td>\n",
              "      <td>2.63</td>\n",
              "      <td>39.81</td>\n",
              "      <td>1.08</td>\n",
              "      <td>1.88</td>\n",
              "      <td>5098.680869</td>\n",
              "    </tr>\n",
              "    <tr>\n",
              "      <th>4</th>\n",
              "      <td>5</td>\n",
              "      <td>17.52</td>\n",
              "      <td>4.57</td>\n",
              "      <td>3.18</td>\n",
              "      <td>10.94</td>\n",
              "      <td>1.51</td>\n",
              "      <td>1.90</td>\n",
              "      <td>3406.132832</td>\n",
              "    </tr>\n",
              "  </tbody>\n",
              "</table>\n",
              "</div>"
            ],
            "text/plain": [
              "   Well    Por  Perm    AI  Brittle   TOC    VR         Prod\n",
              "0     1  12.08  2.92  2.80    81.40  1.16  2.31  4165.196191\n",
              "1     2  12.38  3.53  3.22    46.17  0.89  1.88  3561.146205\n",
              "2     3  14.02  2.59  4.01    72.80  0.89  2.72  4284.348574\n",
              "3     4  17.67  6.75  2.63    39.81  1.08  1.88  5098.680869\n",
              "4     5  17.52  4.57  3.18    10.94  1.51  1.90  3406.132832"
            ]
          },
          "execution_count": 31,
          "metadata": {},
          "output_type": "execute_result"
        }
      ],
      "source": [
        "data = pd.read_csv('data/unconv.csv')\n",
        "data.head()"
      ]
    },
    {
      "cell_type": "markdown",
      "id": "58639b40",
      "metadata": {
        "id": "58639b40"
      },
      "source": [
        "## Практика: линейная регрессия по методу наименьших квадратов"
      ]
    },
    {
      "cell_type": "markdown",
      "id": "a90535b8",
      "metadata": {
        "id": "a90535b8"
      },
      "source": [
        "Для начала построим простейшую модель линейной регрессии, проанализируем результаты её работы и выберем наиболее значимые факторы для прогнозирования.\n",
        "\n",
        "В первой части вам предстоит выполнить задания 5.0–5.6. Максимальное количество баллов, которое можно получить, — 9."
      ]
    },
    {
      "cell_type": "markdown",
      "id": "4061b706",
      "metadata": {
        "id": "4061b706"
      },
      "source": [
        "### Задание 5.0. (не оценивается)\n",
        "\n",
        "Проведите небольшой разведывательный анализ, чтобы поближе познакомиться с исходными данными. Постройте несколько визуализаций, которые помогут вам понять, как устроены исходные признаки, а также смогут продемонстрировать взаимосвязь факторов. \n",
        "\n",
        "Сделайте промежуточные выводы из проведённого разведывательного анализа."
      ]
    },
    {
      "cell_type": "code",
      "execution_count": 32,
      "id": "daf1ccc7",
      "metadata": {
        "id": "daf1ccc7"
      },
      "outputs": [
        {
          "data": {
            "image/png": "[encoded data removed]",
            "text/plain": [
              "<Figure size 1500x1000 with 9 Axes>"
            ]
          },
          "metadata": {},
          "output_type": "display_data"
        }
      ],
      "source": [
        "# Ваш код здесь\n",
        "data.hist(figsize=(15, 10))\n",
        "plt.show()"
      ]
    },
    {
      "cell_type": "markdown",
      "id": "d11cb44f",
      "metadata": {
        "id": "d11cb44f"
      },
      "source": [
        "### Задание 5.1. (2 балла)\n",
        "\n",
        "Постройте корреляционную матрицу факторов, включив в неё целевой признак. \n",
        "\n",
        "Для наглядности визуализируйте полученную матрицу с помощью тепловой карты. \n",
        "\n",
        "**Примечание.** *Для визуализации вы можете использовать любую из знакомых вам библиотек.*\n",
        "\n",
        "На основе построенной корреляционной матрицы ответьте на следующий вопрос:\n",
        "\n",
        "* Какие факторы сильнее всего коррелируют с целевой переменной?\n",
        "\n",
        "\n",
        "Вычислите ранг и определитель полученной матрицы корреляций и приведите развёрнутые ответы на следующие вопросы:\n",
        "* Является ли корреляционная матрица плохо обусловенной (близок ли её опредитель к нулю)?\n",
        "\n",
        "* Что вы можете сказать о наличии коллинераности/мультиколлинеарности в данных? \n",
        "\n",
        "* Применима ли в данном случае модель классической линейной регрессии по методу наименьших квадратов и почему? "
      ]
    },
    {
      "cell_type": "markdown",
      "id": "57OjUl5e2oiL",
      "metadata": {
        "id": "57OjUl5e2oiL"
      },
      "source": [
        "**Критерии оценивания:**\n",
        "- Задание выполнено верно, учтены все условия (**2 балла**): \n",
        "    * приведён код для расчёта корреляционной матрицы;\n",
        "    * приведён код для визуализации корреляционной матрицы в виде тепловой карты;\n",
        "    * рассчитаны ранг и определитель корреляционной матрицы;\n",
        "    * предоставлены обоснованные ответы на все поставленные вопросы. \n",
        "\n",
        "- Задание выполнено верно, но не учтено одно условие (**1 балл**).\n",
        "- Задание выполнено неверно, не учтено несколько условий (**0 баллов**)."
      ]
    },
    {
      "cell_type": "code",
      "execution_count": 33,
      "id": "af00a5a0",
      "metadata": {
        "id": "af00a5a0"
      },
      "outputs": [
        {
          "data": {
            "image/png": "[encoded data removed]",
            "text/plain": [
              "<Figure size 1000x800 with 2 Axes>"
            ]
          },
          "metadata": {},
          "output_type": "display_data"
        },
        {
          "name": "stdout",
          "output_type": "stream",
          "text": [
            "Ранг корреляционной матрицы: 8\n",
            "Определитель корреляционной матрицы: 7.30e-04\n"
          ]
        }
      ],
      "source": [
        "# Ваш код здесь\n",
        "# Корреляционная матрица\n",
        "plt.figure(figsize=(10, 8))\n",
        "corr_matrix = data.corr()\n",
        "sns.heatmap(corr_matrix, annot=True, cmap='coolwarm', fmt=\".2f\", linewidths=0.5)\n",
        "plt.title('Correlation Matrix')\n",
        "plt.show()\n",
        "\n",
        "# Вычисляем ранг корреляционной матрицы\n",
        "rank = np.linalg.matrix_rank(corr_matrix)\n",
        "# Вычисляем определитель корреляционной матрицы\n",
        "det = np.linalg.det(corr_matrix)\n",
        "# Печать результатов\n",
        "print(f'Ранг корреляционной матрицы: {rank}')\n",
        "print(f'Определитель корреляционной матрицы: {det:.2e}')"
      ]
    },
    {
      "cell_type": "markdown",
      "id": "9a56013d",
      "metadata": {
        "id": "9a56013d"
      },
      "source": [
        "> *Ваши выводы здесь*\n",
        "* Какие факторы сильнее всего коррелируют с целевой переменной?\n",
        "\n",
        "Сильнее всего корелирую POR, PERM, TOC\n",
        "\n",
        "* Является ли корреляционная матрица плохо обусловенной (близок ли её опредитель к нулю)?\n",
        "\n",
        "Да. Т.к значение определителя матрицы близко 0, это говорит о плохой обусловленности матрицы.\n",
        "\n",
        "* Что вы можете сказать о наличии коллинераности/мультиколлинеарности в данных? \n",
        "\n",
        "Т.к ранг матрицы равен 8 из 8 признаков это говирит о том что все 8 признаков линейно независимы друг от друга однако тюк определитель равен 7.30e-04, это говорит о плохой обусловленности модели а значит, хотя признаки являются условно независимыми, некоторые из них имеют сильную кореляцию\n",
        "\n",
        "* Применима ли в данном случае модель классической линейной регрессии по методу наименьших квадратов и почему? \n",
        "\n",
        "Конкретно к этой матрице, в неизменном виде применять метод наименьших квадратов неэффекивно т.к так как корреляционная матрица плохо обусловлена, что приводит к проблемам с устойчивостью модели и затрудняет ее интерпретацию\n"
      ]
    },
    {
      "cell_type": "markdown",
      "id": "43fd91c4",
      "metadata": {
        "id": "43fd91c4"
      },
      "source": [
        "### Задание 5.2. (2 балла)\n",
        "\n",
        "Создайте матрицу наблюдений `X` и вектор правильных ответов `y`. В качестве факторов для матрицы наблюдений возьмите все имеющиеся в данных признаки. \n",
        "\n",
        "Постройте модель линейной регрессии по методу наименьших квадратов. Для этого воспользуйтесь матричной формулой МНК и инструментарием библиотеки numpy. \n",
        "\n",
        "Выведите на экран полученные оценки коэффициентов модели, округлённые до целого.\n",
        "\n",
        "Приведите подробные выводы по полученным результатам, ответив на следующие вопросы:\n",
        "* Есть ли в ваших данных признаки, которые, согласно модели, можно назвать неинформативными, то есть они не оказывают влияния на целевую переменную или оказывают шумовое влияние?\n",
        "* Приведите интерпретацию нескольких (двух или трёх) коэффициентов полученной модели линейной регрессии.\n"
      ]
    },
    {
      "cell_type": "markdown",
      "id": "QtNtTUzI4Cpq",
      "metadata": {
        "id": "QtNtTUzI4Cpq"
      },
      "source": [
        "**Критерии оценивания:**\n",
        "- Задание выполнено верно, учтены все условия (**2 балла**): \n",
        "    * приведён код для нахождения параметров модели линейной регрессии с помощью матричной формулы МНК;\n",
        "    * на основе полученных параметров даны верные ответы на поставленные вопросы;\n",
        "    * приведена корректная интерпретация нескольких коэффициентов полученной модели линейной регрессии.\n",
        "\n",
        "- Задание выполнено верно, но не учтено одно из условий (**1 балл**).\n",
        "- Задание выполнено неверно, не учтено несколько условий (**0 баллов**)."
      ]
    },
    {
      "cell_type": "code",
      "execution_count": 34,
      "id": "5724288c",
      "metadata": {
        "id": "5724288c"
      },
      "outputs": [
        {
          "name": "stdout",
          "output_type": "stream",
          "text": [
            "Коэффициенты линейной регрессии (округленные до целого): [-1232.     0.   230.   116.  -365.    25.   -78.   785.]\n"
          ]
        }
      ],
      "source": [
        "# Ваш код здесь\n",
        "# Создаем вектор целевой переменной (правильных ответов)\n",
        "y = data['Prod'].values  # Целевой признак - добыча газа\n",
        "\n",
        "# Создаем матрицу наблюдений X\n",
        "# Используем все признаки, кроме целевого 'Prod'\n",
        "X = data.drop(columns=['Prod']).values\n",
        "\n",
        "# Добавляем столбец единиц в матрицу X для учета свободного члена (b0)\n",
        "X = np.c_[np.ones(X.shape[0]), X]  # Добавляем столбец единиц\n",
        "\n",
        "# Матричная формула МНК для вычисления коэффициентов линейной регрессии\n",
        "# beta = (X^T X)^(-1) X^T y\n",
        "beta = np.linalg.inv(X.T @ X) @ X.T @ y\n",
        "\n",
        "# Округляем коэффициенты до целого и выводим их\n",
        "beta_rounded = np.round(beta)\n",
        "print('Коэффициенты линейной регрессии (округленные до целого):', beta_rounded)"
      ]
    },
    {
      "cell_type": "markdown",
      "id": "bab9ee21",
      "metadata": {
        "id": "bab9ee21"
      },
      "source": [
        "> *Ваши выводы здесь*\n",
        "Коэффициенты линейной регрессии (округленные до целого): [-1232.     0.   230.   116.  -365.    25.   -78.   785.]\n",
        "\n",
        "Неинформативный признак: Второй признак, коэффициент которого равен нулю, не оказывает влияния на добычу газа может быть исключен из модели.Пятый признак с коэффициентом 25 также может считаться шумовым, поскольку его влияние на добычу газа довольно слабое. Это значение говорит о том, что изменение этого признака приводит лишь к незначительным изменениям в добыче, что может говорить о его неинформативности.\n",
        "\n",
        "Значимые признаки: Третий и пятый признаки имеют значительное влияние на добычу газа — один увеличивает добычу, другой уменьшает.\n",
        "\n",
        "Проблемные признаки: Коэффициент при восьмом признаке (идентификатор скважины) слишком высок, что говорит о некорректности использования данного признака для предсказания. Вероятно, его следует исключить, так как его включение может ухудшить обобщающую способность модели."
      ]
    },
    {
      "cell_type": "markdown",
      "id": "4a05a4ac",
      "metadata": {
        "id": "4a05a4ac"
      },
      "source": [
        "### Задание 5.3. (1 балл)\n",
        "\n",
        "Теперь потренируемся строить предсказание для наблюдений целевой переменной. \n",
        "\n",
        "**а)** Постройте прогноз выработки газа для скважины со следующими параметрами:\n",
        "\n",
        "```python\n",
        "{\n",
        "    'Well': 106.0,\n",
        "    'Por': 15.32,\n",
        "    'Perm': 3.71,\n",
        "    'AI': 3.29,\n",
        "    'Brittle': 55.99,\n",
        "    'TOC': 1.35,\n",
        "    'VR': 2.42\n",
        " }\n",
        "```\n",
        "\n",
        "Рассчитайте абсолютную ошибку построенного вами прогноза для предложенной скважины (в миллионах кубических футов в день), если известно, что на этой скважине производится `4748.315024` миллионов кубических футов газа в день. \n",
        "\n",
        "**б)** Постройте прогноз выработки газа для всех скважин из обучающего набора данных. Выберите метрику, по которой вы будете оценивать качество регрессионных моделей и сравнивать их между собой (можно использовать несколько метрик, но не более двух).\n",
        "\n",
        "Рассчитайте значение выбранной метрики для вашей модели. Приведите интерпретацию полученного результата. "
      ]
    },
    {
      "cell_type": "markdown",
      "id": "qUDcep5Q5GWU",
      "metadata": {
        "id": "qUDcep5Q5GWU"
      },
      "source": [
        "**Критерии оценивания:**\n",
        "- Задание выполнено верно, учтены все условия (**1 балл**): \n",
        "    * приведён код для построения прогноза выработки газа на указанной скважине и рассчитана абсолютная ошибка прогноза для этой скважины;\n",
        "    * выбрана корректная для поставленной задачи метрика (или метрики) оценки качества модели и приведён код для расчёта этой метрики на всём обучающем наборе данных;\n",
        "    * приведена корректная интерпретация полученного результата.\n",
        "\n",
        "- Задание выполнено верно, но не учтено одно из условий, или задание выполнено неверно (**0 баллов**)."
      ]
    },
    {
      "cell_type": "code",
      "execution_count": 35,
      "id": "e4291db0",
      "metadata": {
        "id": "e4291db0"
      },
      "outputs": [
        {
          "name": "stdout",
          "output_type": "stream",
          "text": [
            "Прогнозируемая добыча газа для скважины: 4723.06 млн. кубических футов в день,\n",
            " фактическая добыча газа для скважины: 4748.315024\n",
            "Абсолютная ошибка: 25.25 млн. кубических футов в день\n",
            "Средняя абсолютная ошибка (MAE): 153.62\n",
            "Корень среднеквадратичной ошибки (RMSE): 198.28\n"
          ]
        }
      ],
      "source": [
        "# Ваш код здесь\n",
        "# Данные для новой скважины\n",
        "new_well_features = [1, 106.0, 15.32, 3.71, 3.29, 55.99, 1.35, 2.42]\n",
        "\n",
        "# Предсказание для новой скважины\n",
        "predicted_prod = np.dot(new_well_features, beta)\n",
        "\n",
        "# Фактическое значение добычи\n",
        "actual_prod = 4748.315024\n",
        "\n",
        "# Абсолютная ошибка\n",
        "abs_error = np.abs(actual_prod - predicted_prod)\n",
        "\n",
        "# Вывод результата\n",
        "print(f'Прогнозируемая добыча газа для скважины: {predicted_prod:.2f} млн. кубических футов в день,\\n фактическая добыча газа для скважины: {actual_prod}')\n",
        "print(f'Абсолютная ошибка: {abs_error:.2f} млн. кубических футов в день')\n",
        "\n",
        "y = data['Prod'].values\n",
        "\n",
        "# Построение прогноза для всех скважин\n",
        "y_pred = np.dot(X, beta)\n",
        "\n",
        "# Оценка качества модели с использованием метрик MAE и MSE\n",
        "mae = np.mean(np.abs(y - y_pred))  # Mean Absolute Error\n",
        "mse = np.mean((y - y_pred) ** 2)  # Среднеквадратичная ошибка\n",
        "rmse = np.sqrt(mse)  # Root Mean Squared Error\n",
        "\n",
        "# Вывод результатов\n",
        "print(f'Средняя абсолютная ошибка (MAE): {mae:.2f}')\n",
        "print(f'Корень среднеквадратичной ошибки (RMSE): {rmse:.2f}')\n"
      ]
    },
    {
      "cell_type": "markdown",
      "id": "c9bee4bc",
      "metadata": {
        "id": "c9bee4bc"
      },
      "source": [
        "> *Ваши выводы здесь*\n",
        "Относительно низкая абсолютная ошибка для конкретной скважины (25.25 млн. куб. футов) показывает, что модель в данном случае работает достаточно хорошо.\n",
        "\n",
        "Средняя абсолютная ошибка (MAE) в 153.62 млн. куб. футов говорит о том, что модель в среднем ошибается на эту величину для каждой скважины.\n",
        "\n",
        "Корень среднеквадратичной ошибки (RMSE) в 198.27 млн. куб. футов указывает на несколько больших ошибок в предсказаниях. Это может быть индикатором того, что модель недостаточно хорошо справляется с некоторыми наблюдениями (возможно, из-за выбросов или неправильных данных), однако так как разница c MAE не значительная это говорит о небольшом числе выбросов."
      ]
    },
    {
      "cell_type": "markdown",
      "id": "0c25c3aa",
      "metadata": {
        "id": "0c25c3aa"
      },
      "source": [
        "### Задание 5.4. (1 балл)\n",
        "\n",
        "Настало время анализа построенной модели. Посмотрите на коэффициенты и сравните их знаки со значениями выборочных корреляций между целевым признаком и факторами, которые вы нашли ранее.\n",
        "\n",
        "Дайте развёрнутые ответы на следующие вопросы:\n",
        "\n",
        "* Есть ли в вашей модели фактор, при котором коэффициент в модели линейной регрессии противоречит соответствующему коэффициенту корреляции? Например, корреляция говорит, что зависимость между фактором и целевой переменной прямая, а модель говорит обратное. Если таких факторов несколько, укажите их все.\n",
        "* Как вы считаете, с чем связано полученное противоречие результатов?"
      ]
    },
    {
      "cell_type": "markdown",
      "id": "ngJ3UdYb6Ll6",
      "metadata": {
        "id": "ngJ3UdYb6Ll6"
      },
      "source": [
        "**Критерии оценивания:**\n",
        "\n",
        "- Задание выполнено верно, даны корректные развёрнутые ответы на все поставленные в задании вопросы (**1 балл**). \n",
        "\n",
        "- Задание выполнено неверно, даны некорректные ответы на один или несколько поставленных в задании вопросов (**0 баллов**)."
      ]
    },
    {
      "cell_type": "code",
      "execution_count": 36,
      "id": "v-zIxRPY9wK7",
      "metadata": {
        "id": "v-zIxRPY9wK7"
      },
      "outputs": [
        {
          "name": "stdout",
          "output_type": "stream",
          "text": [
            "Признак: Well, Коэффициент регрессии: 0.05, Коэффициент корреляции: 0.03\n",
            "Признак: Por, Коэффициент регрессии: 230.18, Коэффициент корреляции: 0.86\n",
            "Признак: Perm, Коэффициент регрессии: 116.24, Коэффициент корреляции: 0.73\n",
            "Признак: AI, Коэффициент регрессии: -365.20, Коэффициент корреляции: -0.39\n",
            "Признак: Brittle, Коэффициент регрессии: 24.99, Коэффициент корреляции: 0.24\n",
            "Признак: TOC, Коэффициент регрессии: -78.40, Коэффициент корреляции: 0.65\n",
            "Признак: VR, Коэффициент регрессии: 785.26, Коэффициент корреляции: 0.32\n",
            "\n"
          ]
        }
      ],
      "source": [
        "# Ваш код здесь\n",
        "coefficients = beta\n",
        "correlations = data.corr()['Prod']\n",
        "# Список признаков, кроме целевого ('Prod')\n",
        "features = data.columns[:-1]\n",
        "\n",
        "# Создаем строку с информацией для каждого признака\n",
        "output_str = \"\"\n",
        "for feature, coef in zip(features, coefficients[1:]):  # Пропускаем свободный член\n",
        "    correlation = correlations[feature]\n",
        "    output_str += f\"Признак: {feature}, Коэффициент регрессии: {coef:.2f}, Коэффициент корреляции: {correlation:.2f}\\n\"\n",
        "\n",
        "# Выводим строку\n",
        "print(output_str)"
      ]
    },
    {
      "cell_type": "markdown",
      "id": "qeowwIp99yBf",
      "metadata": {
        "id": "qeowwIp99yBf"
      },
      "source": [
        "> *Ваши выводы здесь*\n",
        "Совпадение знаков коэффициентов и корреляций для большинства признаков говорит о том, что модель правильно учитывает направление влияния этих признаков на добычу газа.\n",
        "\n",
        "TOC — единственный признак, для которого знаки не совпадают. Это может свидетельствовать о мультиколлинеарности (сильной корреляции с другими признаками), что приводит к неверной интерпретации влияния. В таком случае признак TOC может быть кандидатом для удаления, или следует рассмотреть применение регуляризации, чтобы устранить проблему мультиколлинеарности.\n",
        "\n",
        "Признак Well имеет очень малые значения коэффициента регрессии и корреляции, что указывает на его низкую информативность. Возможно, этот признак можно удалить из модели, чтобы упростить её и снизить шум.\n",
        "Таким образом, большинство признаков оказывают влияние на добычу газа, и модель корректно учитывает их влияние. Однако некоторые признаки, такие как TOC и Well, могут требовать дополнительного анализа или даже исключения для улучшения качества модели"
      ]
    },
    {
      "cell_type": "markdown",
      "id": "9cea9195",
      "metadata": {
        "id": "9cea9195"
      },
      "source": [
        "### Задание 5.5. (2 балла)\n",
        "\n",
        "* Исключите из данных сильно коррелированные между собой факторы. Под сильной корреляцией в данной задаче будем понимать значения выше `0.7`.\n",
        "\n",
        "Выбирая, какой из коррелированных факторов оставить, руководствуйтесь коэффициентом корреляции с целевой переменной: оставляйте тот фактор, который больше всего коррелирует с целевой переменной (объёмом добычи газа).\n",
        "\n",
        "* Также исключите из данных факторы, для которых корреляция с целевой переменной меньше `0.05`.\n",
        "\n",
        "Постройте модель линейной регрессии на обновлённых после удаления факторов данных по методу наименьших квадратов. Для этого используйте матричную формулу и библиотеку numpy. Выведите значение полученных коэффициентов, округлённых до целого.\n",
        "\n",
        "Сделайте прогноз для всего обучающего набора данных и рассчитайте выбранную вами ранее метрику (или метрики). \n",
        "\n",
        "Дайте подробные ответы на следующие вопросы:\n",
        "\n",
        "* Приведите интерпретацию нескольких полученных коэффициентов (двух или трёх). Сравните их значения с полученными ранее.\n",
        "* Приведите интерпретацию полученных значений метрик. Сравните их значения с полученными ранее. \n",
        "* Удалось ли вам побороть противоречие коэффициентов линейной регрессии и коэффициентов корреляции?"
      ]
    },
    {
      "cell_type": "markdown",
      "id": "vlUYVjJP6oXN",
      "metadata": {
        "id": "vlUYVjJP6oXN"
      },
      "source": [
        "**Критерии оценивания:**\n",
        "- Задание выполнено верно, учтены все условия (**2 балла**): \n",
        "    * отобраны верные факторы;\n",
        "    * на основе отобранных факторов построена модель линейной регрессии с помощью матричной формулы МНК и найдены параметры модели, соответствующие каждому из факторов;\n",
        "    * построен прогноз для всего обучающего набора данных и рассчитано значение метрики (метрика должна быть выбрана корректно);\n",
        "    * даны ответы на все поставленные в задании вопросы.\n",
        "\n",
        "- Задание выполнено верно, но не учтено одно из условий (**1 балл**).\n",
        "- Задание выполнено верно, не учтено несколько из условий (**0 баллов**)."
      ]
    },
    {
      "cell_type": "code",
      "execution_count": 37,
      "id": "5d5ZJ0lX_UHe",
      "metadata": {
        "id": "5d5ZJ0lX_UHe"
      },
      "outputs": [
        {
          "name": "stdout",
          "output_type": "stream",
          "text": [
            "Коэффициенты линейной регрессии (округленные до целого): [-1232.     0.   230.   116.  -365.    25.   -78.   785.]\n",
            "Средняя абсолютная ошибка (MAE): 171.43\n",
            "Корень среднеквадратичной ошибки (RMSE): 231.65\n"
          ]
        }
      ],
      "source": [
        "# Ваш код здесь\n",
        "# Удаляем ненужные признаки\n",
        "to_drop = ['Well', 'Perm', 'TOC']\n",
        "data_reduced = data.drop(columns=to_drop)\n",
        "\n",
        "# Целевая переменная (вектор правильных ответов)\n",
        "y = data_reduced['Prod'].values\n",
        "\n",
        "# Матрица наблюдений (признаки, кроме целевой переменной)\n",
        "X = data_reduced.drop(columns=['Prod']).values\n",
        "\n",
        "# Добавляем столбец единиц в матрицу X для учета свободного члена (b0)\n",
        "X = np.c_[np.ones(X.shape[0]), X]\n",
        "\n",
        "# Матричная формула МНК для вычисления коэффициентов линейной регрессии\n",
        "# beta = (X^T X)^(-1) X^T y\n",
        "beta_reduced = np.linalg.inv(X.T @ X) @ X.T @ y\n",
        "\n",
        "# Выводим полученные коэффициенты\n",
        "print('Коэффициенты линейной регрессии (округленные до целого):', np.round(beta, 0))\n",
        "\n",
        "# Используем полученные коэффициенты beta для предсказания добычи газа\n",
        "y_pred = X @ beta_reduced\n",
        "\n",
        "# Рассчитываем метрики качества модели\n",
        "# Средняя абсолютная ошибка (MAE)\n",
        "mae = np.mean(np.abs(y - y_pred))\n",
        "\n",
        "# Среднеквадратичная ошибка (MSE)\n",
        "mse = np.mean((y - y_pred) ** 2)\n",
        "\n",
        "# Корень среднеквадратичной ошибки (RMSE)\n",
        "rmse = np.sqrt(mse)\n",
        "\n",
        "# Выводим метрики\n",
        "print(f'Средняя абсолютная ошибка (MAE): {mae:.2f}')\n",
        "print(f'Корень среднеквадратичной ошибки (RMSE): {rmse:.2f}')\n"
      ]
    },
    {
      "cell_type": "markdown",
      "id": "KxbYvMDo_WLe",
      "metadata": {
        "id": "KxbYvMDo_WLe"
      },
      "source": [
        "> *Ваши выводы здесь*\n",
        "Por (Пористость) = 293 (раньше: 230):\n",
        "\n",
        "В предыдущей модели коэффициент при Por был 230, а теперь он стал 293.\n",
        "Значение коэффициента увеличилось, что указывает на то, что после удаления некоторых признаков модель теперь больше полагается на пористость при прогнозировании добычи газа. Увеличение коэффициента говорит о более сильном положительном влиянии пористости на добычу.\n",
        "\n",
        "AI (Акустический импеданс) = -200 (раньше: -365):\n",
        "\n",
        "В предыдущей модели коэффициент при AI был -365, а теперь он стал -200.\n",
        "Значение коэффициента уменьшилось по модулю, что указывает на снижение отрицательного влияния этого признака на добычу газа. Это может быть связано с тем, что после удаления сильно коррелированных признаков влияние AI на добычу стало менее выраженным.\n",
        "\n",
        "Brittle (Коэффициент хрупкости) = 28 (раньше: 25):\n",
        "\n",
        "В предыдущей модели коэффициент при Brittle был 25, а теперь он стал 28.\n",
        "Значение коэффициента немного увеличилось, что говорит о незначительном усилении положительного влияния хрупкости на добычу газа. Тем не менее, влияние этого признака все еще остается умеренным и не оказывает значительного вклада в предсказание.\n",
        "\n",
        "Старая модель:\n",
        "\n",
        "MAE: 153.62 млн. куб. футов\n",
        "RMSE: 198.28 млн. куб. футов\n",
        "Обновленная модель (после удаления признаков):\n",
        "\n",
        "MAE: 171.43 млн. куб. футов\n",
        "RMSE: 231.65 млн. куб. футов\n",
        "Интерпретация ухудшения метрик\n",
        "Ухудшение точности модели:\n",
        "\n",
        "MAE и RMSE увеличились, что указывает на то, что обновленная модель стала менее точной в предсказании добычи газа по сравнению с предыдущей версией.\n",
        "Увеличение RMSE говорит о том, что теперь модель имеет больше крупных ошибок в предсказаниях, что особенно заметно, когда RMSE значительно превышает MAE.\n",
        "Хотя мы старались избавиться от мультиколлинеарности (чрезмерной корреляции между признаками), некоторые из удаленных признаков могли все же вносить значимый вклад в предсказания.\n",
        "\n",
        "В первоначальной модели признак TOC имел положительную корреляцию с целевой переменной (0.65), но при этом его коэффициент регрессии был отрицательным (-78.40). Это указывало на противоречие между направлением влияния признака, которое показывала корреляция, и влиянием, которое показывала модель.\n",
        "В обновленной модели не осталось признаков, для которых коэффициенты линейной регрессии имели бы противоречащий знак по сравнению с коэффициентами корреляции."
      ]
    },
    {
      "cell_type": "markdown",
      "id": "7d50db12",
      "metadata": {
        "id": "7d50db12"
      },
      "source": [
        "### Задание 5.6. (1 балл)\n",
        "\n",
        "Наконец, давайте построим модель линейной регрессии из библиотеки `scikit-learn (sklearn)` и сравним результаты её работы с теми, что нам удалось получить вручную. \n",
        "\n",
        "Постройте модель линейной регрессии на обновлённых после удаления факторов данных по методу наименьших квадратов. Для этого воспользуйтесь классом `LinearRegression` из библиотеки `sklearn`. Выведите значения полученных коэффициентов, округлённые до целого.\n",
        "\n",
        "Сделайте прогноз для всего обучающего набора данных и рассчитайте значение выбранной вами метрики (или метрик).\n",
        "\n",
        "Сравните результаты библиотечной реализации с тем, что вы получили ранее. "
      ]
    },
    {
      "cell_type": "markdown",
      "id": "emu5D3w278JP",
      "metadata": {
        "id": "emu5D3w278JP"
      },
      "source": [
        "**Критерии оценивания:**\n",
        "\n",
        "- Задание выполнено верно, учтены все условия (**1 балл**): \n",
        "    * на основе отобранных факторов построена модель линейной регрессии из библиотеки sklearn и найдены параметры модели, соответствующие каждому из факторов;\n",
        "    * построен прогноз для всего обучающего набора данных и рассчитано значение метрики (метрика должна быть выбрана корректно);\n",
        "    * приведён вывод о соответствии результатов, полученных вручную и с помощью библиотеки.\n",
        "- Задание выполнено неверно, не учтено одно или несколько условий (**0 баллов**)."
      ]
    },
    {
      "cell_type": "code",
      "execution_count": 38,
      "id": "Gpdpfq59AKGu",
      "metadata": {
        "id": "Gpdpfq59AKGu"
      },
      "outputs": [
        {
          "name": "stdout",
          "output_type": "stream",
          "text": [
            "Коэффициенты линейной регрессии (sklearn, округленные до целого): [   0.  293. -200.   28.  517.]\n",
            "Свободный член (intercept, sklearn, округленный до целого): -1835.0\n",
            "Средняя абсолютная ошибка (MAE) с sklearn: 171.43\n",
            "Корень среднеквадратичной ошибки (RMSE) с sklearn: 231.65\n"
          ]
        }
      ],
      "source": [
        "# Ваш код здесь\n",
        "from sklearn.linear_model import LinearRegression\n",
        "from sklearn.metrics import mean_absolute_error, mean_squared_error\n",
        "import numpy as np\n",
        "\n",
        "# Создаем и обучаем модель линейной регрессии с использованием sklearn\n",
        "model = LinearRegression()\n",
        "model.fit(X, y)\n",
        "\n",
        "# Получаем коэффициенты модели\n",
        "sklearn_coefficients = model.coef_\n",
        "sklearn_intercept = model.intercept_\n",
        "\n",
        "# Выводим коэффициенты и свободный член (округленные до целого)\n",
        "print('Коэффициенты линейной регрессии (sklearn, округленные до целого):', np.round(sklearn_coefficients, 0))\n",
        "print('Свободный член (intercept, sklearn, округленный до целого):', round(sklearn_intercept, 0))\n",
        "\n",
        "# Прогноз для всего обучающего набора данных\n",
        "y_pred_sklearn = model.predict(X)\n",
        "\n",
        "# Расчет метрик MAE и RMSE для модели sklearn\n",
        "mae_sklearn = mean_absolute_error(y, y_pred_sklearn)\n",
        "rmse_sklearn = np.sqrt(mean_squared_error(y, y_pred_sklearn))\n",
        "\n",
        "# Вывод метрик\n",
        "print(f'Средняя абсолютная ошибка (MAE) с sklearn: {mae_sklearn:.2f}')\n",
        "print(f'Корень среднеквадратичной ошибки (RMSE) с sklearn: {rmse_sklearn:.2f}')\n"
      ]
    },
    {
      "cell_type": "markdown",
      "id": "WT9cdHAbAMG7",
      "metadata": {
        "id": "WT9cdHAbAMG7"
      },
      "source": [
        "> *Ваши выводы здесь*\n",
        "Совпадение результатов подтверждает, что и ручной расчет, и библиотечная реализация дают одинаково точные результаты. Это говорит о том, что оба подхода правильно находят коэффициенты для линейной регрессии.\n",
        "\n",
        "С практической точки зрения, библиотечный метод (например, LinearRegression из sklearn) является гораздо удобнее и быстрее, особенно при работе с большими объемами данных, поскольку sklearn оптимизирован для таких задач."
      ]
    },
    {
      "cell_type": "markdown",
      "id": "5346338e",
      "metadata": {
        "id": "5346338e"
      },
      "source": [
        "## Практика: полиномиальная регрессия и регуляризация"
      ]
    },
    {
      "cell_type": "markdown",
      "id": "aad9e3a6",
      "metadata": {
        "id": "aad9e3a6"
      },
      "source": [
        "Мы продолжаем работать над задачей от владельца компании «Газ-Таз-Ваз-Нефть» Василия.\n",
        "\n",
        "Ранее мы построили модель линейной регрессии, которая прогнозирует выработку газа на скважине. Для этого мы с помощью матрицы корреляций и рассуждений отобрали некоррелированные, значимые для предсказания признаки. **Далее мы будем использовать именно их (см. задание 5.5).**\n",
        "\n",
        "Мы хотим улучшить результат — уменьшить ошибку прогноза. Для этого мы воспользуемся моделью полиномиальной регрессии третьей степени. Однако теперь мы знаем, что полиномиальным моделям очень легко переобучиться под исходную выборку. Так как данных у нас не так много (всего 200 скважин), то для контроля качества модели мы будем использовать кросс-валидацию. \n",
        "\n",
        "Приступим! Выполните задания 8.1–8.5:\n"
      ]
    },
    {
      "cell_type": "code",
      "execution_count": 39,
      "id": "18506d1b",
      "metadata": {
        "id": "18506d1b"
      },
      "outputs": [],
      "source": [
        "from sklearn.preprocessing import PolynomialFeatures, StandardScaler\n",
        "from sklearn.linear_model import LinearRegression, Lasso, Ridge, ElasticNet\n",
        "from sklearn.model_selection import GridSearchCV\n",
        "from sklearn.model_selection import cross_validate"
      ]
    },
    {
      "cell_type": "markdown",
      "id": "bfbfea8d",
      "metadata": {
        "id": "bfbfea8d"
      },
      "source": [
        "### Задание 8.1. (1 балл)\n",
        "\n",
        "Стандаризируйте признаки с помощью `StandartScaler` из библиотеки `sklearn`. \n",
        "\n",
        "Затем сгенерируйте полиномиальные признаки третьего порядка на факторах, которые вы выбрали для обучения моделей. Для этого воспользуйтесь генератором полиномов `PolynomialFeatures` из библиотеки `sklearn`. Параметр `include_bias` установите в значение `False`.\n",
        "\n",
        "Выведите на экран, сколько факторов у вас получилось после генерации полиномиальных признаков.\n",
        "\n",
        "**Важно:** стандартизацию необходимо произвести до генерации полиномиальных факторов!\n",
        "\n",
        "Обучите модель линейной регрессии из библиотеки `sklearn` (`LinearRegression`) на полученных полиномиальных факторах.\n",
        "\n",
        "Используя кросс-валидацию оцените среднее значение выбранной вами метрики (или метрик) на тренировочных и валидационных фолдах.\n",
        "\n",
        "Проинтерпретируйте полученные результаты."
      ]
    },
    {
      "cell_type": "markdown",
      "id": "Y8oAhQkr8gV-",
      "metadata": {
        "id": "Y8oAhQkr8gV-"
      },
      "source": [
        "**Критерии оценивания:**\n",
        "\n",
        "- Задание выполнено верно, учтены все условия (**1 балл**): \n",
        "    * на основе отобранных факторов сгенерированы полиномиальные признаки третьего порядка;\n",
        "    * построена модель полиномиальной регрессии (линейной регрессии на полиномиальных признаках);\n",
        "    * с помощью кросс-валидации оценено среднее значение выбранной студентом метрики (или метрик) на тренировочных и валидационных фолдах (метрика должна быть выбрана корректно).\n",
        "- Задание выполнено неверно, не учтено одно или несколько из условий (**0 баллов**)."
      ]
    },
    {
      "cell_type": "code",
      "execution_count": 48,
      "id": "-ln3bx8NFNRw",
      "metadata": {
        "id": "-ln3bx8NFNRw"
      },
      "outputs": [
        {
          "name": "stdout",
          "output_type": "stream",
          "text": [
            "Количество факторов после генерации полиномиальных признаков: 34\n",
            "Среднее значение MAE на кросс-валидации: 110.47\n",
            "Среднее значение RMSE на кросс-валидации: 154.51\n"
          ]
        }
      ],
      "source": [
        "# Ваш код здесь\n",
        "from sklearn.preprocessing import StandardScaler, PolynomialFeatures\n",
        "from sklearn.linear_model import LinearRegression\n",
        "from sklearn.model_selection import cross_val_score\n",
        "from sklearn.metrics import make_scorer, mean_absolute_error, mean_squared_error\n",
        "import numpy as np\n",
        "\n",
        "# Удаляем ненужные признаки\n",
        "to_drop = ['Well', 'Perm', 'TOC']\n",
        "data_reduced = data.drop(columns=to_drop)\n",
        "\n",
        "# Целевая переменная (вектор правильных ответов)\n",
        "y = data_reduced['Prod'].values\n",
        "\n",
        "# Матрица наблюдений (признаки, кроме целевой переменной)\n",
        "X = data_reduced.drop(columns=['Prod']).values\n",
        "\n",
        "# Шаг 1: Стандартизация признаков\n",
        "scaler = StandardScaler()\n",
        "\n",
        "# Применяем стандартизацию к матрице признаков X\n",
        "X_scaled = scaler.fit_transform(X)\n",
        "\n",
        "# Шаг 2: Генерация полиномиальных признаков третьего порядка\n",
        "poly = PolynomialFeatures(degree=3, include_bias=False)\n",
        "\n",
        "# Применяем генерацию полиномиальных признаков к стандартизированным данным\n",
        "X_poly = poly.fit_transform(X_scaled)\n",
        "\n",
        "# Выводим, сколько факторов получилось после генерации полиномиальных признаков\n",
        "print('Количество факторов после генерации полиномиальных признаков:', X_poly.shape[1])\n",
        "\n",
        "# Создаем модель линейной регрессии\n",
        "model = LinearRegression()\n",
        "\n",
        "# Определяем метрики для кросс-валидации\n",
        "mae_scorer = make_scorer(mean_absolute_error)\n",
        "rmse_scorer = make_scorer(mean_squared_error, greater_is_better=False)\n",
        "\n",
        "# Используем кросс-валидацию для оценки MAE\n",
        "mae_scores = cross_val_score(model, X_poly, y, cv=5, scoring=mae_scorer)\n",
        "mean_mae = np.mean(mae_scores)\n",
        "\n",
        "# Используем кросс-валидацию для оценки RMSE\n",
        "rmse_scores = cross_val_score(model, X_poly, y, cv=5, scoring=rmse_scorer)\n",
        "rmse_scores = np.sqrt(-rmse_scores)  # Чтобы получить значения RMSE из отрицательных значений MSE\n",
        "mean_rmse = np.mean(rmse_scores)\n",
        "\n",
        "# Вывод результатов\n",
        "print(f'Среднее значение MAE на кросс-валидации: {mean_mae:.2f}')\n",
        "print(f'Среднее значение RMSE на кросс-валидации: {mean_rmse:.2f}')\n"
      ]
    },
    {
      "cell_type": "markdown",
      "id": "9DkuuLLtFPPy",
      "metadata": {
        "id": "9DkuuLLtFPPy"
      },
      "source": [
        "> *Ваши выводы здесь*\n",
        "Улучшение точности: Оба значения — MAE и RMSE — уменьшились по сравнению с предыдущими моделями, что указывает на улучшение точности предсказаний. Это говорит о том, что использование полиномиальных признаков позволило модели лучше захватывать сложные взаимосвязи между признаками, которые простая линейная модель не могла уловить."
      ]
    },
    {
      "cell_type": "markdown",
      "id": "63d06013",
      "metadata": {
        "id": "63d06013"
      },
      "source": [
        "### Задание 8.2. (2 балла)\n",
        "\n",
        "Теперь попробуем воспользоваться линейной регрессией с регуляризацией. Для начала возьмём $L_1$-регуляризацию.\n",
        "\n",
        "Обучите модель `Lasso` из библиотеки `sklearn` на полученных полиномиальных факторах, предварительно стандартизировав факторы. \n",
        "\n",
        "Коэффициент регуляризации (`alpha`) подберите самостоятельно с помощью любого известного вам метода подбора гиперпаметров.\n",
        "\n",
        "Используя кросс-валидацию, оцените среднее значение выбранной вами метрики (или метрик) на тренировочных и валидационных фолдах.\n",
        "\n",
        "Проинтерпретируйте полученные результаты."
      ]
    },
    {
      "cell_type": "markdown",
      "id": "z24YUfuA9rUq",
      "metadata": {
        "id": "z24YUfuA9rUq"
      },
      "source": [
        "**Критерии оценивания:**\n",
        "\n",
        "- Задание выполнено верно, учтены все условия (**2 балла**): \n",
        "    * правильно построена модель полиномиальной регрессии (линейной регрессии на полиномиальных признаках) с регуляризацией (Lasso), учтены условия необходимости масштабирования факторов для построения модели;\n",
        "    * приведён код для подбора параметра регуляризации (вручную или с помощью библиотечных инструментов);\n",
        "    * с помощью кросс-валидации оценено среднее значение выбранной студентом метрики (или метрик) на тренировочных и валидационных фолдах (метрика должна быть выбрана корректно).\n",
        "\n",
        "- Задание выполнено верно, но не учтено одно из условий (**1 балл**).\n",
        "- Задание выполнено неверно, не учтено несколько условий (**0 баллов**)."
      ]
    },
    {
      "cell_type": "code",
      "execution_count": 52,
      "id": "IJ5b5G8qFz-r",
      "metadata": {
        "id": "IJ5b5G8qFz-r"
      },
      "outputs": [
        {
          "name": "stdout",
          "output_type": "stream",
          "text": [
            "Лучшее значение alpha: 1.0\n",
            "Среднее значение MAE на кросс-валидации: 102.87\n",
            "Среднее значение RMSE на кросс-валидации: 143.09\n"
          ]
        }
      ],
      "source": [
        "# Ваш код здесь\n",
        "#Обучение модели Lasso с подбором гиперпараметра alpha\n",
        "# Определяем диапазон значений alpha для подбора\n",
        "alpha_values = np.logspace(-4, 0, 10)  # Значения от 0.0001 до 1\n",
        "\n",
        "# Создаем модель Lasso\n",
        "lasso = Lasso(max_iter=10000)\n",
        "\n",
        "# Используем GridSearchCV для подбора оптимального alpha\n",
        "param_grid = {'alpha': alpha_values}\n",
        "grid_search = GridSearchCV(lasso, param_grid, cv=5, scoring='neg_mean_absolute_error')\n",
        "grid_search.fit(X_poly, y)\n",
        "\n",
        "# Находим лучшее значение alpha\n",
        "best_alpha = grid_search.best_params_['alpha']\n",
        "print(f'Лучшее значение alpha: {best_alpha}')\n",
        "\n",
        "# Шаг 4: Оценка качества модели с использованием кросс-валидации\n",
        "best_lasso = Lasso(alpha=best_alpha, max_iter=10000)\n",
        "mae_scorer = make_scorer(mean_absolute_error)\n",
        "\n",
        "# Кросс-валидация для оценки MAE\n",
        "mae_scores = cross_val_score(best_lasso, X_poly, y, cv=5, scoring=mae_scorer)\n",
        "mean_mae = np.mean(mae_scores)\n",
        "\n",
        "# Кросс-валидация для оценки RMSE (корень из MSE)\n",
        "mse_scorer = make_scorer(mean_squared_error, greater_is_better=False)\n",
        "mse_scores = cross_val_score(best_lasso, X_poly, y, cv=5, scoring=mse_scorer)\n",
        "rmse_scores = np.sqrt(-mse_scores)  # Извлекаем квадратный корень из отрицательных MSE, чтобы получить RMSE\n",
        "mean_rmse = np.mean(rmse_scores)\n",
        "\n",
        "# Вывод результатов\n",
        "print(f'Среднее значение MAE на кросс-валидации: {mean_mae:.2f}')\n",
        "print(f'Среднее значение RMSE на кросс-валидации: {mean_rmse:.2f}')"
      ]
    },
    {
      "cell_type": "markdown",
      "id": "Se0OGR8UF2Td",
      "metadata": {
        "id": "Se0OGR8UF2Td"
      },
      "source": [
        "> *Ваши выводы здесь*\n",
        "Использование $L_1$-регуляризации с моделью Lasso позволяет модели быть более устойчивой и менее склонной к переобучению. Это достигается путем штрафования больших значений коэффициентов, что также помогает исключить незначимые признаки."
      ]
    },
    {
      "cell_type": "markdown",
      "id": "2975ae60",
      "metadata": {
        "id": "2975ae60"
      },
      "source": [
        "### Задание 8.3. (2 балла)\n",
        "\n",
        "Проделаем то же самое с $L_2$-регуляризацией.\n",
        "\n",
        "Обучите модель `Ridge` из библиотеки `sklearn` на полученных полиномиальных факторах, предварительно стандартизировав факторы. \n",
        "\n",
        "Коэффициент регуляризации (`alpha`) подберите самостоятельно с помощью любого известного вам метода подбора гиперпаметров.\n",
        "\n",
        "Используя кросс-валидацию оцените среднее значение выбранной вами метрики (или метрик) на тренировочных и валидационных фолдах.\n",
        "\n",
        "Проинтерпретируйте полученные результаты."
      ]
    },
    {
      "cell_type": "markdown",
      "id": "43f76a0d",
      "metadata": {},
      "source": []
    },
    {
      "cell_type": "code",
      "execution_count": 55,
      "id": "UfPGyNsjGGS8",
      "metadata": {
        "id": "UfPGyNsjGGS8"
      },
      "outputs": [
        {
          "name": "stdout",
          "output_type": "stream",
          "text": [
            "Лучшее значение alpha: 0.12915496650148828\n",
            "Среднее значение MAE на кросс-валидации: 110.10\n",
            "Среднее значение RMSE на кросс-валидации: 153.82\n"
          ]
        }
      ],
      "source": [
        "# Ваш код здесь\n",
        "# Создаем модель Ridge\n",
        "ridge = Ridge(max_iter=10000)\n",
        "\n",
        "# Используем GridSearchCV для подбора оптимального alpha\n",
        "param_grid = {'alpha': alpha_values}\n",
        "grid_search = GridSearchCV(ridge, param_grid, cv=5, scoring='neg_mean_absolute_error')\n",
        "grid_search.fit(X_poly, y)\n",
        "\n",
        "# Находим лучшее значение alpha\n",
        "best_alpha = grid_search.best_params_['alpha']\n",
        "print(f'Лучшее значение alpha: {best_alpha}')\n",
        "\n",
        "# Шаг 4: Оценка качества модели с использованием кросс-валидации\n",
        "best_ridge = Ridge(alpha=best_alpha, max_iter=10000)\n",
        "\n",
        "# Кросс-валидация для оценки MAE\n",
        "mae_scorer = make_scorer(mean_absolute_error)\n",
        "mae_scores = cross_val_score(best_ridge, X_poly, y, cv=5, scoring=mae_scorer)\n",
        "mean_mae = np.mean(mae_scores)\n",
        "\n",
        "# Кросс-валидация для оценки RMSE (корень из MSE)\n",
        "mse_scorer = make_scorer(mean_squared_error, greater_is_better=False)\n",
        "mse_scores = cross_val_score(best_ridge, X_poly, y, cv=5, scoring=mse_scorer)\n",
        "rmse_scores = np.sqrt(-mse_scores)  # Извлекаем квадратный корень из отрицательных MSE, чтобы получить RMSE\n",
        "mean_rmse = np.mean(rmse_scores)\n",
        "\n",
        "# Вывод результатов\n",
        "print(f'Среднее значение MAE на кросс-валидации: {mean_mae:.2f}')\n",
        "print(f'Среднее значение RMSE на кросс-валидации: {mean_rmse:.2f}')"
      ]
    },
    {
      "cell_type": "markdown",
      "id": "dQBd7ny_GIi1",
      "metadata": {
        "id": "dQBd7ny_GIi1"
      },
      "source": [
        "> *Ваши выводы здесь*\n",
        "Lasso показало лучшие результаты на этом наборе данных, так как исключило незначимые признаки, что привело к более низким значениям MAE и RMSE.\n",
        "\n",
        "Ridge также улучшило результаты по сравнению с моделью без регуляризации, но не настолько, как Lasso.\n",
        "\n",
        "Поскольку Lasso эффективно работает с данными, в которых есть избыточные или неинформативные признаки, и показало лучшие результаты, оно может быть предпочтительным выбором для этой задачи."
      ]
    },
    {
      "cell_type": "markdown",
      "id": "86pXnWE7-5ch",
      "metadata": {
        "id": "86pXnWE7-5ch"
      },
      "source": [
        "**Критерии оценивания:**\n",
        "\n",
        "- Задание выполнено верно, учтены все условия (**2 балла**): \n",
        "    * правильно построена модель полиномиальной регрессии (линейной регрессии на полиномиальных признаках) с регуляризацией (Ridge), учтены условия необходимости масштабирования факторов для построения модели;\n",
        "    * приведён код для подбора параметра регуляризации (вручную или с помощью библиотечных инструментов);\n",
        "    * с помощью кросс-валидации оценено среднее значение выбранной студентом метрики (или метрик) на тренировочных и валидационных фолдах (метрика должна быть выбрана корректно).\n",
        "\n",
        "- Задание выполнено верно, но не учтено одно из условий (**1 балл**).\n",
        "- Задание выполнено неверно, не учтено несколько условий (**0 баллов**)."
      ]
    },
    {
      "cell_type": "markdown",
      "id": "7ad85b78",
      "metadata": {
        "id": "7ad85b78"
      },
      "source": [
        "### Задание 8.4. (2 балла)\n",
        "\n",
        "Наконец, настало время комбинировать $L_1$ и $L_2$ -регуляризации.\n",
        "\n",
        "Обучите модель `ElasticNet` из библиотеки `sklearn` на полученных полиномиальных факторах, предварительно стандартизировав факторы. \n",
        "\n",
        "Коэффициенты регуляризации (`alpha` и `l1-ratio`) подберите самостоятельно с помощью любого известного вам метода подбора гиперпаметров.\n",
        "\n",
        "Используя кросс-валидацию, оцените среднее значение метрики MAPE на тренировочных и валидационных фолдах.\n",
        "\n",
        "Проинтерпретируйте полученные результаты."
      ]
    },
    {
      "cell_type": "markdown",
      "id": "sy8ESceQ-__u",
      "metadata": {
        "id": "sy8ESceQ-__u"
      },
      "source": [
        "**Критерии оценивания:**\n",
        "\n",
        "- Задание выполнено верно, учтены все условия (**2 балла**): \n",
        "    * правильно построена модель полиномиальной регрессии (линейной регрессии на полиномиальных признаках) с регуляризацией (ElasticNet), учтены условия необходимости масштабирования факторов для построения модели;\n",
        "    * приведён код для подбора параметра регуляризации (вручную или с помощью библиотечных инструментов);\n",
        "    * с помощью кросс-валидации оценено среднее значение выбранной студентом метрики (или метрик) на тренировочных и валидационных фолдах (метрика должна быть выбрана корректно).\n",
        "\n",
        "- Задание выполнено верно, но не учтено одно из условий (**1 балл**).\n",
        "- Задание выполнено неверно, не учтено несколько условий (**0 баллов**)."
      ]
    },
    {
      "cell_type": "code",
      "execution_count": 58,
      "id": "-Yi3P20hQnLS",
      "metadata": {
        "id": "-Yi3P20hQnLS"
      },
      "outputs": [
        {
          "name": "stderr",
          "output_type": "stream",
          "text": [
            "c:\\Users\\User\\AppData\\Local\\Programs\\Python\\Python39\\lib\\site-packages\\sklearn\\linear_model\\_coordinate_descent.py:697: ConvergenceWarning: Objective did not converge. You might want to increase the number of iterations, check the scale of the features or consider increasing regularisation. Duality gap: 1.428e+05, tolerance: 1.474e+04\n",
            "  model = cd_fast.enet_coordinate_descent(\n",
            "c:\\Users\\User\\AppData\\Local\\Programs\\Python\\Python39\\lib\\site-packages\\sklearn\\linear_model\\_coordinate_descent.py:697: ConvergenceWarning: Objective did not converge. You might want to increase the number of iterations, check the scale of the features or consider increasing regularisation. Duality gap: 6.143e+04, tolerance: 1.474e+04\n",
            "  model = cd_fast.enet_coordinate_descent(\n",
            "c:\\Users\\User\\AppData\\Local\\Programs\\Python\\Python39\\lib\\site-packages\\sklearn\\linear_model\\_coordinate_descent.py:697: ConvergenceWarning: Objective did not converge. You might want to increase the number of iterations, check the scale of the features or consider increasing regularisation. Duality gap: 3.542e+04, tolerance: 1.474e+04\n",
            "  model = cd_fast.enet_coordinate_descent(\n",
            "c:\\Users\\User\\AppData\\Local\\Programs\\Python\\Python39\\lib\\site-packages\\sklearn\\linear_model\\_coordinate_descent.py:697: ConvergenceWarning: Objective did not converge. You might want to increase the number of iterations, check the scale of the features or consider increasing regularisation. Duality gap: 2.375e+04, tolerance: 1.474e+04\n",
            "  model = cd_fast.enet_coordinate_descent(\n",
            "c:\\Users\\User\\AppData\\Local\\Programs\\Python\\Python39\\lib\\site-packages\\sklearn\\linear_model\\_coordinate_descent.py:697: ConvergenceWarning: Objective did not converge. You might want to increase the number of iterations, check the scale of the features or consider increasing regularisation. Duality gap: 1.747e+04, tolerance: 1.474e+04\n",
            "  model = cd_fast.enet_coordinate_descent(\n"
          ]
        },
        {
          "name": "stdout",
          "output_type": "stream",
          "text": [
            "Лучшие значения alpha: 0.016681005372000592, l1_ratio: 0.9\n",
            "Среднее значение MAPE на кросс-валидации: 0.0267\n",
            "Среднее значение MAE на кросс-валидации: 109.89\n",
            "Среднее значение RMSE на кросс-валидации: 153.09\n"
          ]
        }
      ],
      "source": [
        "# Ваш код здесь\n",
        "from sklearn.linear_model import ElasticNet\n",
        "from sklearn.preprocessing import StandardScaler, PolynomialFeatures\n",
        "from sklearn.model_selection import GridSearchCV, cross_val_score\n",
        "from sklearn.metrics import make_scorer, mean_absolute_percentage_error\n",
        "import numpy as np\n",
        "\n",
        "# Шаг 1: Стандартизация признаков\n",
        "scaler = StandardScaler()\n",
        "X_scaled = scaler.fit_transform(X)  # X - матрица признаков до полиномиального преобразования\n",
        "\n",
        "# Шаг 2: Генерация полиномиальных признаков третьего порядка\n",
        "poly = PolynomialFeatures(degree=3, include_bias=False)\n",
        "X_poly = poly.fit_transform(X_scaled)\n",
        "\n",
        "# Шаг 3: Обучение модели ElasticNet с подбором гиперпараметров alpha и l1_ratio\n",
        "# Определяем диапазон значений alpha и l1_ratio для подбора\n",
        "alpha_values = np.logspace(-4, 0, 10)  # Значения alpha от 0.0001 до 1\n",
        "l1_ratio_values = np.linspace(0.1, 0.9, 9)  # Значения l1_ratio от 0.1 до 0.9\n",
        "\n",
        "# Создаем модель ElasticNet\n",
        "elastic_net = ElasticNet(max_iter=10000)\n",
        "\n",
        "# Используем GridSearchCV для подбора оптимальных alpha и l1_ratio\n",
        "param_grid = {'alpha': alpha_values, 'l1_ratio': l1_ratio_values}\n",
        "grid_search = GridSearchCV(elastic_net, param_grid, cv=5, scoring='neg_mean_absolute_percentage_error')\n",
        "grid_search.fit(X_poly, y)\n",
        "\n",
        "# Находим лучшие значения alpha и l1_ratio\n",
        "best_alpha = grid_search.best_params_['alpha']\n",
        "best_l1_ratio = grid_search.best_params_['l1_ratio']\n",
        "print(f'Лучшие значения alpha: {best_alpha}, l1_ratio: {best_l1_ratio}')\n",
        "\n",
        "# Шаг 4: Оценка качества модели с использованием кросс-валидации\n",
        "best_elastic_net = ElasticNet(alpha=best_alpha, l1_ratio=best_l1_ratio, max_iter=10000)\n",
        "\n",
        "# Кросс-валидация для оценки MAPE\n",
        "mape_scorer = make_scorer(mean_absolute_percentage_error, greater_is_better=False)\n",
        "mape_scores = cross_val_score(best_elastic_net, X_poly, y, cv=5, scoring=mape_scorer)\n",
        "mean_mape = np.mean(-mape_scores)\n",
        "\n",
        "# Кросс-валидация для оценки MAE\n",
        "mae_scorer = make_scorer(mean_absolute_error)\n",
        "mae_scores = cross_val_score(best_elastic_net, X_poly, y, cv=5, scoring=mae_scorer)\n",
        "mean_mae = np.mean(mae_scores)\n",
        "\n",
        "# Кросс-валидация для оценки RMSE (через MSE)\n",
        "mse_scorer = make_scorer(mean_squared_error, greater_is_better=False)\n",
        "mse_scores = cross_val_score(best_elastic_net, X_poly, y, cv=5, scoring=mse_scorer)\n",
        "rmse_scores = np.sqrt(-mse_scores)\n",
        "mean_rmse = np.mean(rmse_scores)\n",
        "\n",
        "# Вывод результатов\n",
        "print(f'Среднее значение MAPE на кросс-валидации: {mean_mape:.4f}')\n",
        "print(f'Среднее значение MAE на кросс-валидации: {mean_mae:.2f}')\n",
        "print(f'Среднее значение RMSE на кросс-валидации: {mean_rmse:.2f}')"
      ]
    },
    {
      "cell_type": "markdown",
      "id": "er2lAiE9QpAb",
      "metadata": {
        "id": "er2lAiE9QpAb"
      },
      "source": [
        "> *Ваши выводы здесь*\n",
        "ElasticNet — наиболее подходящая модель для этого набора данных, поскольку она объединила преимущества L1 и L2 регуляризаций.\n",
        "Значение MAPE = 2.67% показывает, что модель делает довольно точные предсказания в относительных единицах, что делает ее подходящей для задач, где важна интерпретация в процентах.\n",
        "Модель смогла снизить избыточность признаков и улучшить точность по сравнению с моделями, использующими только L1 или L2 регуляризацию."
      ]
    },
    {
      "cell_type": "markdown",
      "id": "91c6e1d1",
      "metadata": {
        "id": "91c6e1d1"
      },
      "source": [
        "### Задание 8.5. (1 балл)\n",
        "\n",
        "Завершением вашей работы будет сводная таблица результатов, которую вы представите на презентации заказчику Василию.\n",
        "\n",
        "Составьте таблицу (DataFrame) со следующими столбцами (имена столбцов выберите самостоятельно):\n",
        "* Наименование модели.\n",
        "* Гиперпараметры (коэффициенты регуляризации, если таковые имеются), если нет — оставьте ячейку пустой.\n",
        "* Использовались ли полиномиальные признаки при построении модели (Да/Нет или True/False).\n",
        "* Значение выбранной метрики на тренировочных фолдах при кросс-валидации модели.\n",
        "* Значение выбранной метрики на валидационных фолдах при кросс-валидации модели.\n",
        "\n",
        "Сделайте финальный вывод по проделанной работе. Какая линейная модель из тех, что мы рассмотрели, показала наилучший результат с точки зрения качества на валидационных фолдах, а также с точки зрения переобученности?"
      ]
    },
    {
      "cell_type": "markdown",
      "id": "OsFRaKkF_nLq",
      "metadata": {
        "id": "OsFRaKkF_nLq"
      },
      "source": [
        "**Критерии оценивания:**\n",
        "\n",
        "- Задание выполнено верно, учтены все условия (**1 балл**): \n",
        "    * верно составлена сводная таблица итоговых результатов построенных ранее моделей с указанными в задании столбцами;\n",
        "    * приведены итоговые выводы по проделанной работе, указано, какая из рассмотренных моделей показала наилучший результат.\n",
        "\n",
        "- Задание выполнено неверно, не учтено одно или несколько условий (**0 баллов**)."
      ]
    },
    {
      "cell_type": "code",
      "execution_count": 60,
      "id": "wRiys8lKQuqW",
      "metadata": {
        "id": "wRiys8lKQuqW"
      },
      "outputs": [
        {
          "data": {
            "image/png": "[encoded data removed]",
            "text/plain": [
              "<Figure size 1000x400 with 1 Axes>"
            ]
          },
          "metadata": {},
          "output_type": "display_data"
        }
      ],
      "source": [
        "# Настройки графика\n",
        "fig, ax = plt.subplots(figsize=(10, 4))  # Размер графика\n",
        "\n",
        "# Скрываем оси, чтобы отобразить только таблицу\n",
        "ax.axis('off')\n",
        "\n",
        "# Создаем таблицу из DataFrame\n",
        "table = plt.table(cellText=results_df.values,  # Данные для таблицы\n",
        "                  colLabels=results_df.columns,  # Заголовки столбцов\n",
        "                  cellLoc='center',  # Центрирование текста в ячейках\n",
        "                  loc='center')  # Позиция таблицы на графике\n",
        "\n",
        "# Настройки таблицы для улучшенного отображения\n",
        "table.auto_set_font_size(False)\n",
        "table.set_fontsize(10)\n",
        "table.auto_set_column_width(col=list(range(len(results_df.columns))))  # Автоматическая ширина столбцов\n",
        "\n",
        "# Вывод таблицы\n",
        "plt.show()"
      ]
    },
    {
      "cell_type": "markdown",
      "id": "UP7_LSoEQsrA",
      "metadata": {
        "id": "UP7_LSoEQsrA"
      },
      "source": [
        "> *Ваши выводы здесь*\n",
        "\n",
        "Lasso показала наилучший результат на валидационных данных и наиболее эффективна в борьбе с переобучением. Это связано с тем, что Lasso исключает незначимые признаки, что помогает уменьшить избыточность и улучшить обобщающую способность модели.\n",
        "\n",
        "ElasticNet также справилась с задачей неплохо, и в некоторых случаях предпочтение может быть отдано этой модели, так как она комбинирует оба типа регуляризации (L1 и L2), что дает хороший баланс между исключением признаков и сглаживанием их влияния.\n",
        "\n",
        "Ridge справляется хуже, чем Lasso, но лучше, чем линейная регрессия без регуляризации, так как позволяет контролировать влияние признаков.\n",
        "\n",
        "Линейная регрессия без регуляризации оказалась склонна к переобучению, так как модель не имеет механизмов для борьбы с избыточностью и коллинеарностью признаков, что приводит к большему значению ошибок.\n",
        "\n",
        "Таким образом, Lasso является предпочтительным выбором в данном случае, так как она лучше справляется с устранением избыточных признаков и демонстрирует лучшие результаты на валидационных фолдах."
      ]
    },
    {
      "cell_type": "code",
      "execution_count": null,
      "id": "752d4445-6a85-4cfb-b520-7b7b0f9a5b20",
      "metadata": {
        "id": "752d4445-6a85-4cfb-b520-7b7b0f9a5b20"
      },
      "outputs": [],
      "source": []
    }
  ],
  "metadata": {
    "colab": {
      "provenance": []
    },
    "kernelspec": {
      "display_name": "Python 3",
      "language": "python",
      "name": "python3"
    },
    "language_info": {
      "codemirror_mode": {
        "name": "ipython",
        "version": 3
      },
      "file_extension": ".py",
      "mimetype": "text/x-python",
      "name": "python",
      "nbconvert_exporter": "python",
      "pygments_lexer": "ipython3",
      "version": "3.9.5"
    }
  },
  "nbformat": 4,
  "nbformat_minor": 5
}
