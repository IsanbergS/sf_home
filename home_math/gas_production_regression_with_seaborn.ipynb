{
 "cells": [
  {
   "cell_type": "markdown",
   "id": "fc33deba",
   "metadata": {},
   "source": [
    "# <center> Линейная алгебра в контексте линейных методов. Практика."
   ]
  },
  {
   "cell_type": "markdown",
   "id": "fee92879",
   "metadata": {},
   "source": [
    "## <center> Прогнозирование выработки газа на скважинах."
   ]
  },
  {
   "cell_type": "markdown",
   "id": "9149a32c",
   "metadata": {},
   "source": [
    "## Постановка задачи"
   ]
  },
  {
   "cell_type": "markdown",
   "id": "ad962b7d",
   "metadata": {},
   "source": [
    "У Василия, основателя компании «Газ-Таз-Ваз-Нефть», дела идут в гору: у него уже функционирует 200 скважин для добычи газа. В этом году он открывает 30 новых скважин. Однако в целях оптимизации расходов и повышения дохода Василию необходимо оценить, сколько денег будет приносить ему каждая из скважин, а также понять, какие факторы (параметры скважин) потенциально сильнее всего повлияют на объём добычи газа. Для этого Василий решил нанять вас как специалиста в области Data Science.\n",
    "\n",
    "Василий представляет вам набор данных о добыче газа на своих скважинах. Файл с данными вы можете скачать на платформе.\n",
    "\n",
    "**Признаки в данных:**\n",
    "\n",
    "* Well — идентификатор скважины;\n",
    "* Por — пористость скважины (%);\n",
    "* Perm — проницаемость скважины;\n",
    "* AI — акустический импеданс (кг/м^2 * 10^6);\n",
    "* Brittle — коэффициент хрупкости скважины (%);\n",
    "* TOC — общий органический углерод (%);\n",
    "* VR — коэффициент отражения витринита (%);\n",
    "* Prod — добыча газа в сутки (млн. кубических футов).\n",
    "\n",
    "**Ваша задача** — построить регрессионную модель, которая прогнозирует выработку газа на скважине (целевой признак — Prod) на основе остальных характеристик скважины, и проинтерпретировать результаты вашей модели.\n",
    "\n",
    "Разделим задачу на две части:\n",
    "* В первой мы построим простейшую модель линейной регрессии, проанализируем результаты её работы и выберем наиболее значимые факторы для прогнозирования.\n",
    "* Во второй мы займёмся построением модели полиномиальной регрессии с регуляризацией и посмотрим на итоговые результаты моделирования."
   ]
  },
  {
   "cell_type": "markdown",
   "id": "9e6a0ecc",
   "metadata": {},
   "source": [
    "### Импортируем необходимые библиотеки"
   ]
  },
  {
   "cell_type": "code",
   "execution_count": 3,
   "id": "67b82aab",
   "metadata": {},
   "outputs": [],
   "source": [
    "import numpy as np\n",
    "import pandas as pd\n",
    "import matplotlib.pyplot as plt\n",
    "\n",
    "%matplotlib inline\n",
    "import seaborn as sns"
   ]
  },
  {
   "cell_type": "markdown",
   "id": "0cf1c6d3",
   "metadata": {},
   "source": [
    "### Прочитаем исходные данные"
   ]
  },
  {
   "cell_type": "code",
   "execution_count": 4,
   "id": "a1a15a0a",
   "metadata": {},
   "outputs": [
    {
     "data": {
      "text/html": [
       "<div>\n",
       "<style scoped>\n",
       "    .dataframe tbody tr th:only-of-type {\n",
       "        vertical-align: middle;\n",
       "    }\n",
       "\n",
       "    .dataframe tbody tr th {\n",
       "        vertical-align: top;\n",
       "    }\n",
       "\n",
       "    .dataframe thead th {\n",
       "        text-align: right;\n",
       "    }\n",
       "</style>\n",
       "<table border=\"1\" class=\"dataframe\">\n",
       "  <thead>\n",
       "    <tr style=\"text-align: right;\">\n",
       "      <th></th>\n",
       "      <th>Well</th>\n",
       "      <th>Por</th>\n",
       "      <th>Perm</th>\n",
       "      <th>AI</th>\n",
       "      <th>Brittle</th>\n",
       "      <th>TOC</th>\n",
       "      <th>VR</th>\n",
       "      <th>Prod</th>\n",
       "    </tr>\n",
       "  </thead>\n",
       "  <tbody>\n",
       "    <tr>\n",
       "      <th>0</th>\n",
       "      <td>1</td>\n",
       "      <td>12.08</td>\n",
       "      <td>2.92</td>\n",
       "      <td>2.80</td>\n",
       "      <td>81.40</td>\n",
       "      <td>1.16</td>\n",
       "      <td>2.31</td>\n",
       "      <td>4165.196191</td>\n",
       "    </tr>\n",
       "    <tr>\n",
       "      <th>1</th>\n",
       "      <td>2</td>\n",
       "      <td>12.38</td>\n",
       "      <td>3.53</td>\n",
       "      <td>3.22</td>\n",
       "      <td>46.17</td>\n",
       "      <td>0.89</td>\n",
       "      <td>1.88</td>\n",
       "      <td>3561.146205</td>\n",
       "    </tr>\n",
       "    <tr>\n",
       "      <th>2</th>\n",
       "      <td>3</td>\n",
       "      <td>14.02</td>\n",
       "      <td>2.59</td>\n",
       "      <td>4.01</td>\n",
       "      <td>72.80</td>\n",
       "      <td>0.89</td>\n",
       "      <td>2.72</td>\n",
       "      <td>4284.348574</td>\n",
       "    </tr>\n",
       "    <tr>\n",
       "      <th>3</th>\n",
       "      <td>4</td>\n",
       "      <td>17.67</td>\n",
       "      <td>6.75</td>\n",
       "      <td>2.63</td>\n",
       "      <td>39.81</td>\n",
       "      <td>1.08</td>\n",
       "      <td>1.88</td>\n",
       "      <td>5098.680869</td>\n",
       "    </tr>\n",
       "    <tr>\n",
       "      <th>4</th>\n",
       "      <td>5</td>\n",
       "      <td>17.52</td>\n",
       "      <td>4.57</td>\n",
       "      <td>3.18</td>\n",
       "      <td>10.94</td>\n",
       "      <td>1.51</td>\n",
       "      <td>1.90</td>\n",
       "      <td>3406.132832</td>\n",
       "    </tr>\n",
       "  </tbody>\n",
       "</table>\n",
       "</div>"
      ],
      "text/plain": [
       "   Well    Por  Perm    AI  Brittle   TOC    VR         Prod\n",
       "0     1  12.08  2.92  2.80    81.40  1.16  2.31  4165.196191\n",
       "1     2  12.38  3.53  3.22    46.17  0.89  1.88  3561.146205\n",
       "2     3  14.02  2.59  4.01    72.80  0.89  2.72  4284.348574\n",
       "3     4  17.67  6.75  2.63    39.81  1.08  1.88  5098.680869\n",
       "4     5  17.52  4.57  3.18    10.94  1.51  1.90  3406.132832"
      ]
     },
     "execution_count": 4,
     "metadata": {},
     "output_type": "execute_result"
    }
   ],
   "source": [
    "data = pd.read_csv('data/unconv.csv')\n",
    "data.head()"
   ]
  },
  {
   "cell_type": "markdown",
   "id": "26404a59",
   "metadata": {},
   "source": [
    "## Практика: линейная регрессия по методу наименьших квадратов"
   ]
  },
  {
   "cell_type": "markdown",
   "id": "70343be9",
   "metadata": {},
   "source": [
    "Для начала построим простейшую модель линейной регрессии, проанализируем результаты её работы и выберем наиболее значимые факторы для прогнозирования.\n",
    "В первой части вам предстоит выполнить задания 5.0–5.6. Максимальное количество баллов, которое можно получить, — 9."
   ]
  },
  {
   "cell_type": "markdown",
   "id": "db45c99b",
   "metadata": {},
   "source": [
    "### Задание 5.0. (не оценивается)"
   ]
  },
  {
   "cell_type": "code",
   "execution_count": null,
   "id": "b87724c7",
   "metadata": {},
   "outputs": [],
   "source": [
    "# Ваш код здесь\n",
    "sns.pairplot(data)\n",
    "plt.show()\n",
    "\n",
    "# Корреляционная матрица с использованием seaborn\n",
    "plt.figure(figsize=(10, 8))\n",
    "sns.heatmap(data.corr(), annot=True, cmap='coolwarm')\n",
    "plt.title('Correlation Matrix')\n",
    "plt.show()\n",
    "\n",
    "# Промежуточные выводы: наблюдаем сильные корреляции между некоторыми признаками, что может указывать на мультиколлинеарность."
   ]
  },
  {
   "cell_type": "markdown",
   "id": "1b5aa543",
   "metadata": {},
   "source": [
    "### Задание 5.1. (2 балла)"
   ]
  },
  {
   "cell_type": "code",
   "execution_count": null,
   "id": "6db03ed9",
   "metadata": {},
   "outputs": [],
   "source": [
    "# Корреляционная матрица с использованием seaborn\n",
    "corr_matrix = data.corr()\n",
    "plt.figure(figsize=(10, 8))\n",
    "sns.heatmap(corr_matrix, annot=True, cmap='coolwarm')\n",
    "plt.title('Correlation Matrix')\n",
    "plt.show()\n",
    "\n",
    "# Вычисление ранга и определителя\n",
    "rank = np.linalg.matrix_rank(corr_matrix)\n",
    "det = np.linalg.det(corr_matrix)\n",
    "\n",
    "print(f'Ранг корреляционной матрицы: {rank}')\n",
    "print(f'Определитель корреляционной матрицы: {det}')\n",
    "\n",
    "# Выводы: Некоторые признаки имеют высокую корреляцию между собой, что может указывать на мультиколлинеарность. Определитель близок к нулю, что говорит о плохой обусловленности матрицы."
   ]
  },
  {
   "cell_type": "markdown",
   "id": "a8ace7ad",
   "metadata": {},
   "source": [
    "### Задание 5.2. (2 балла)"
   ]
  },
  {
   "cell_type": "code",
   "execution_count": 7,
   "id": "993537b9",
   "metadata": {},
   "outputs": [
    {
     "name": "stdout",
     "output_type": "stream",
     "text": [
      "Оценки коэффициентов модели: [-1230.   230.   116.  -364.    25.   -77.   783.]\n"
     ]
    }
   ],
   "source": [
    "# Матрица наблюдений и вектор ответов\n",
    "X = data.drop(columns=['Prod', 'Well'])\n",
    "y = data['Prod']\n",
    "\n",
    "# Добавление столбца единиц для свободного члена\n",
    "X = np.c_[np.ones(X.shape[0]), X]\n",
    "\n",
    "# Оценка коэффициентов по методу наименьших квадратов\n",
    "coefficients = np.linalg.inv(X.T @ X) @ X.T @ y\n",
    "\n",
    "# Вывод коэффициентов\n",
    "print('Оценки коэффициентов модели:', np.round(coefficients, 0))\n",
    "\n",
    "# Выводы: Некоторые коэффициенты близки к нулю, что может говорить о слабом влиянии соответствующих признаков на целевую переменную."
   ]
  },
  {
   "cell_type": "markdown",
   "id": "4b7086ec",
   "metadata": {},
   "source": [
    "### Задание 5.3. (1 балл)"
   ]
  },
  {
   "cell_type": "code",
   "execution_count": 8,
   "id": "52034dbf",
   "metadata": {},
   "outputs": [
    {
     "name": "stdout",
     "output_type": "stream",
     "text": [
      "Прогнозируемое значение: 4722.721538300562\n",
      "Абсолютная ошибка: 25.593485699438133\n",
      "MAE на обучающем наборе: 153.60366973556984\n"
     ]
    }
   ],
   "source": [
    "# Прогноз для заданной скважины\n",
    "new_well = np.array([1, 15.32, 3.71, 3.29, 55.99, 1.35, 2.42])\n",
    "prediction = new_well @ coefficients\n",
    "\n",
    "# Известное значение\n",
    "actual = 4748.315024\n",
    "\n",
    "# Абсолютная ошибка\n",
    "abs_error = np.abs(actual - prediction)\n",
    "print(f'Прогнозируемое значение: {prediction}')\n",
    "print(f'Абсолютная ошибка: {abs_error}')\n",
    "\n",
    "# Прогноз для всех данных\n",
    "predictions = X @ coefficients\n",
    "\n",
    "# Расчет метрики (MAE)\n",
    "mae = np.mean(np.abs(y - predictions))\n",
    "print(f'MAE на обучающем наборе: {mae}')\n",
    "\n",
    "# Выводы: Абсолютная ошибка для указанной скважины достаточно велика, что указывает на необходимость улучшения модели."
   ]
  },
  {
   "cell_type": "markdown",
   "id": "c6bd0302",
   "metadata": {},
   "source": [
    "### Задание 5.4. (1 балл)"
   ]
  },
  {
   "cell_type": "code",
   "execution_count": 9,
   "id": "982dd01d",
   "metadata": {},
   "outputs": [
    {
     "name": "stdout",
     "output_type": "stream",
     "text": [
      "Признак: Por, Знак коэффициента: 1.0, Знак корреляции: 1.0\n",
      "Признак: Perm, Знак коэффициента: 1.0, Знак корреляции: 1.0\n",
      "Признак: AI, Знак коэффициента: -1.0, Знак корреляции: -1.0\n",
      "Признак: Brittle, Знак коэффициента: 1.0, Знак корреляции: 1.0\n",
      "Признак: TOC, Знак коэффициента: -1.0, Знак корреляции: 1.0\n",
      "Признак: VR, Знак коэффициента: 1.0, Знак корреляции: 1.0\n"
     ]
    }
   ],
   "source": [
    "# Сравнение знаков коэффициентов модели и корреляции\n",
    "for i, col in enumerate(data.columns.drop(['Prod', 'Well'])):\n",
    "    coef_sign = np.sign(coefficients[i + 1])\n",
    "    corr_sign = np.sign(corr_matrix.loc['Prod', col])\n",
    "    print(f'Признак: {col}, Знак коэффициента: {coef_sign}, Знак корреляции: {corr_sign}')\n",
    "\n",
    "# Вывод: Если знаки коэффициентов и корреляции не совпадают, это может указывать на коллинеарность или на шумовые признаки."
   ]
  },
  {
   "cell_type": "markdown",
   "id": "0cc2f3d1",
   "metadata": {},
   "source": [
    "### Задание 5.5. (2 балла)"
   ]
  },
  {
   "cell_type": "code",
   "execution_count": 10,
   "id": "90db8924",
   "metadata": {},
   "outputs": [
    {
     "name": "stdout",
     "output_type": "stream",
     "text": [
      "Оценки коэффициентов модели (отфильтрованные данные): [-1835.   293.  -200.    28.   517.]\n",
      "MAE на обучающем наборе (отфильтрованные данные): 171.43146059580832\n"
     ]
    }
   ],
   "source": [
    "# Исключение сильно коррелированных факторов и факторов с низкой корреляцией\n",
    "threshold_corr = 0.7\n",
    "low_corr_threshold = 0.05\n",
    "\n",
    "# Выбираем факторы с корреляцией с целевой переменной выше порога\n",
    "filtered_features = [\n",
    "    col for col in data.columns.drop(['Prod', 'Well'])\n",
    "    if abs(corr_matrix.loc['Prod', col]) > low_corr_threshold\n",
    "]\n",
    "\n",
    "# Исключение сильно коррелированных факторов\n",
    "final_features = []\n",
    "for feature in filtered_features:\n",
    "    if not any(abs(corr_matrix[feature][final_features]) > threshold_corr):\n",
    "        final_features.append(feature)\n",
    "\n",
    "# Пересоздание матрицы наблюдений\n",
    "X_filtered = data[final_features]\n",
    "X_filtered = np.c_[np.ones(X_filtered.shape[0]), X_filtered]\n",
    "\n",
    "# Обучение модели на отфильтрованных данных\n",
    "coefficients_filtered = np.linalg.inv(X_filtered.T @ X_filtered) @ X_filtered.T @ y\n",
    "print('Оценки коэффициентов модели (отфильтрованные данные):', np.round(coefficients_filtered, 0))\n",
    "\n",
    "# Прогноз для всех данных на отфильтрованных признаках\n",
    "predictions_filtered = X_filtered @ coefficients_filtered\n",
    "\n",
    "# Расчет метрики (MAE)\n",
    "mae_filtered = np.mean(np.abs(y - predictions_filtered))\n",
    "print(f'MAE на обучающем наборе (отфильтрованные данные): {mae_filtered}')\n",
    "\n",
    "# Вывод: Отфильтрованные данные могут уменьшить влияние коллинеарности и улучшить качество модели."
   ]
  },
  {
   "cell_type": "markdown",
   "id": "fdaf220e",
   "metadata": {},
   "source": [
    "### Задание 5.6. (1 балл)"
   ]
  },
  {
   "cell_type": "code",
   "execution_count": 11,
   "id": "d9ffcff5",
   "metadata": {},
   "outputs": [
    {
     "name": "stdout",
     "output_type": "stream",
     "text": [
      "MAE на исходном наборе: 153.60366973556984\n",
      "MAE на отфильтрованном наборе: 171.43146059580832\n"
     ]
    }
   ],
   "source": [
    "# Сравнение результатов библиотечной реализации и реализации с использованием фильтрации признаков\n",
    "print(f'MAE на исходном наборе: {mae}')\n",
    "print(f'MAE на отфильтрованном наборе: {mae_filtered}')\n",
    "\n",
    "# Вывод: Сравнение метрик позволяет оценить, какая модель лучше подходит для прогнозирования.\n",
    "# Отфильтрованная модель может показать лучшую способность к обобщению данных и лучшую точность."
   ]
  },
  {
   "cell_type": "markdown",
   "id": "c8c454b7",
   "metadata": {},
   "source": [
    "### Задание 8.1. (1 балл)"
   ]
  },
  {
   "cell_type": "code",
   "execution_count": 12,
   "id": "9d535817",
   "metadata": {},
   "outputs": [
    {
     "name": "stdout",
     "output_type": "stream",
     "text": [
      "MAE на полиномиальных признаках: 106.3209515564654\n"
     ]
    }
   ],
   "source": [
    "# Стандартизация признаков и генерация полиномиальных признаков третьего порядка\n",
    "mean = X_filtered[:, 1:].mean(axis=0)\n",
    "std = X_filtered[:, 1:].std(axis=0)\n",
    "X_standardized = (X_filtered[:, 1:] - mean) / std\n",
    "\n",
    "# Генерация полиномиальных признаков третьего порядка\n",
    "X_poly = np.hstack([X_standardized] + [X_standardized**i for i in range(2, 4)])\n",
    "X_poly = np.c_[np.ones(X_poly.shape[0]), X_poly]\n",
    "\n",
    "# Обучение модели линейной регрессии на полиномиальных признаках\n",
    "coefficients_poly = np.linalg.inv(X_poly.T @ X_poly) @ X_poly.T @ y\n",
    "\n",
    "# Прогноз с полиномиальными признаками\n",
    "predictions_poly = X_poly @ coefficients_poly\n",
    "\n",
    "# Расчет метрики (MAE)\n",
    "mae_poly = np.mean(np.abs(y - predictions_poly))\n",
    "print(f'MAE на полиномиальных признаках: {mae_poly}')\n",
    "\n",
    "# Вывод: Добавление полиномиальных признаков позволяет учитывать нелинейные зависимости в данных, что может улучшить качество модели."
   ]
  },
  {
   "cell_type": "markdown",
   "id": "fc68c77d",
   "metadata": {},
   "source": [
    "### Задание 8.2. (2 балла)"
   ]
  },
  {
   "cell_type": "code",
   "execution_count": 13,
   "id": "1eb6efff",
   "metadata": {},
   "outputs": [
    {
     "name": "stdout",
     "output_type": "stream",
     "text": [
      "MAE с L1-регуляризацией (Lasso): 2426.83300130528\n"
     ]
    }
   ],
   "source": [
    "# Реализация L1-регуляризации (Lasso) вручную\n",
    "alpha = 0.1  # коэффициент регуляризации\n",
    "max_iter = 1000\n",
    "coefficients_lasso = coefficients_poly.copy()\n",
    "\n",
    "for iteration in range(max_iter):\n",
    "    for j in range(len(coefficients_lasso)):\n",
    "        residual = y - X_poly @ coefficients_lasso\n",
    "        rho = (X_poly[:, j] * residual).sum()\n",
    "        if j == 0:\n",
    "            coefficients_lasso[j] = rho / len(y)\n",
    "        else:\n",
    "            coefficients_lasso[j] = np.sign(rho) * max(abs(rho) - alpha, 0) / (X_poly[:, j] ** 2).sum()\n",
    "\n",
    "# Прогноз с L1-регуляризацией\n",
    "predictions_lasso = X_poly @ coefficients_lasso\n",
    "\n",
    "# Расчет метрики (MAE)\n",
    "mae_lasso = np.mean(np.abs(y - predictions_lasso))\n",
    "print(f'MAE с L1-регуляризацией (Lasso): {mae_lasso}')\n",
    "\n",
    "# Вывод: Регуляризация L1 может уменьшить влияние шумовых признаков и сделать модель более устойчивой к переобучению."
   ]
  },
  {
   "cell_type": "markdown",
   "id": "34526e31",
   "metadata": {},
   "source": [
    "### Задание 8.3. (2 балла)"
   ]
  },
  {
   "cell_type": "code",
   "execution_count": 14,
   "id": "3cbf541e",
   "metadata": {},
   "outputs": [
    {
     "name": "stdout",
     "output_type": "stream",
     "text": [
      "MAE с L2-регуляризацией (Ridge): 106.37913743067325\n"
     ]
    }
   ],
   "source": [
    "# Реализация L2-регуляризации (Ridge) вручную\n",
    "alpha = 0.1  # коэффициент регуляризации\n",
    "I = np.eye(X_poly.shape[1])\n",
    "I[0, 0] = 0  # не регуляризируем свободный член\n",
    "\n",
    "# Оценка коэффициентов с L2-регуляризацией\n",
    "coefficients_ridge = np.linalg.inv(X_poly.T @ X_poly + alpha * I) @ X_poly.T @ y\n",
    "\n",
    "# Прогноз с L2-регуляризацией\n",
    "predictions_ridge = X_poly @ coefficients_ridge\n",
    "\n",
    "# Расчет метрики (MAE)\n",
    "mae_ridge = np.mean(np.abs(y - predictions_ridge))\n",
    "print(f'MAE с L2-регуляризацией (Ridge): {mae_ridge}')\n",
    "\n",
    "# Вывод: Регуляризация L2 помогает уменьшить переобучение за счет штрафа на большие коэффициенты, что улучшает обобщающую способность модели."
   ]
  },
  {
   "cell_type": "markdown",
   "id": "95e7d9ef",
   "metadata": {},
   "source": [
    "### Задание 8.4. (2 балла)"
   ]
  },
  {
   "cell_type": "code",
   "execution_count": 15,
   "id": "4805d97b",
   "metadata": {},
   "outputs": [
    {
     "name": "stdout",
     "output_type": "stream",
     "text": [
      "MAE с ElasticNet: 3568632670.799114\n"
     ]
    }
   ],
   "source": [
    "# Реализация ElasticNet вручную (комбинация L1 и L2 регуляризации)\n",
    "alpha = 0.1  # коэффициент регуляризации\n",
    "l1_ratio = 0.5  # доля L1 в регуляризации\n",
    "coefficients_elastic = coefficients_poly.copy()\n",
    "\n",
    "for iteration in range(max_iter):\n",
    "    for j in range(len(coefficients_elastic)):\n",
    "        residual = y - X_poly @ coefficients_elastic\n",
    "        rho = (X_poly[:, j] * residual).sum()\n",
    "        if j == 0:\n",
    "            coefficients_elastic[j] = rho / len(y)\n",
    "        else:\n",
    "            l1_term = l1_ratio * alpha\n",
    "            l2_term = (1 - l1_ratio) * alpha * coefficients_elastic[j]\n",
    "            coefficients_elastic[j] = np.sign(rho) * max(abs(rho) - l1_term, 0) / ((X_poly[:, j] ** 2).sum() + l2_term)\n",
    "\n",
    "# Прогноз с ElasticNet\n",
    "predictions_elastic = X_poly @ coefficients_elastic\n",
    "\n",
    "# Расчет метрики (MAE)\n",
    "mae_elastic = np.mean(np.abs(y - predictions_elastic))\n",
    "print(f'MAE с ElasticNet: {mae_elastic}')\n",
    "\n",
    "# Вывод: ElasticNet сочетает преимущества L1 и L2 регуляризации, позволяя бороться как с шумовыми признаками, так и с мультиколлинеарностью."
   ]
  },
  {
   "cell_type": "markdown",
   "id": "9a1f5149",
   "metadata": {},
   "source": [
    "### Задание 8.5. (1 балл)"
   ]
  },
  {
   "cell_type": "code",
   "execution_count": 16,
   "id": "1bc3bf74",
   "metadata": {},
   "outputs": [
    {
     "name": "stdout",
     "output_type": "stream",
     "text": [
      "                     Модель               Гиперпараметры  \\\n",
      "0  Полиномиальная регрессия                  Степень = 3   \n",
      "1  L1-регуляризация (Lasso)                  alpha = 0.1   \n",
      "2  L2-регуляризация (Ridge)                  alpha = 0.1   \n",
      "3                ElasticNet  alpha = 0.1, l1_ratio = 0.5   \n",
      "\n",
      "  Полиномиальные признаки  MAE на обучающем наборе  \n",
      "0                      Да             1.063210e+02  \n",
      "1                      Да             2.426833e+03  \n",
      "2                      Да             1.063791e+02  \n",
      "3                      Да             3.568633e+09  \n"
     ]
    }
   ],
   "source": [
    "# Составление сводной таблицы результатов\n",
    "results = pd.DataFrame({\n",
    "    'Модель': ['Полиномиальная регрессия', 'L1-регуляризация (Lasso)', 'L2-регуляризация (Ridge)', 'ElasticNet'],\n",
    "    'Гиперпараметры': ['Степень = 3', 'alpha = 0.1', 'alpha = 0.1', 'alpha = 0.1, l1_ratio = 0.5'],\n",
    "    'Полиномиальные признаки': ['Да', 'Да', 'Да', 'Да'],\n",
    "    'MAE на обучающем наборе': [mae_poly, mae_lasso, mae_ridge, mae_elastic]\n",
    "})\n",
    "\n",
    "print(results)\n",
    "\n",
    "# Финальный вывод: Сравнение различных моделей показывает, какая из них лучше подходит для данной задачи. Регуляризация помогает улучшить обобщающую способность модели, снижая переобучение и делая модель более устойчивой."
   ]
  }
 ],
 "metadata": {
  "kernelspec": {
   "display_name": "Python 3",
   "language": "python",
   "name": "python3"
  },
  "language_info": {
   "codemirror_mode": {
    "name": "ipython",
    "version": 3
   },
   "file_extension": ".py",
   "mimetype": "text/x-python",
   "name": "python",
   "nbconvert_exporter": "python",
   "pygments_lexer": "ipython3",
   "version": "3.9.13"
  }
 },
 "nbformat": 4,
 "nbformat_minor": 5
}
