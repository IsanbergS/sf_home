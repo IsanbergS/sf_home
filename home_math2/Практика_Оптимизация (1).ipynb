{
  "cells": [
    {
      "cell_type": "markdown",
      "metadata": {
        "id": "NyHIGVhfa_Wf"
      },
      "source": [
        "# Стохастический градиентный и координатный спуски"
      ]
    },
    {
      "cell_type": "markdown",
      "metadata": {
        "id": "gn6lluIADUKa"
      },
      "source": [
        "Для каждого задания указано количество баллов (если они оцениваются отдельно) + 1 балл за аккуратное и полное выполнение всего задания"
      ]
    },
    {
      "cell_type": "markdown",
      "metadata": {
        "id": "txCccYvha_Wv"
      },
      "source": [
        "## Загрузка и подготовка данных"
      ]
    },
    {
      "cell_type": "markdown",
      "metadata": {
        "id": "NbyOzeZ6a_Wx"
      },
      "source": [
        "**Загрузите уже знакомый вам файл *Advertising.csv* как объект DataFrame.** "
      ]
    },
    {
      "cell_type": "code",
      "execution_count": 3,
      "metadata": {
        "id": "E1L4_xeDa_Wz"
      },
      "outputs": [
        {
          "name": "stdout",
          "output_type": "stream",
          "text": [
            "   Unnamed: 0     TV  radio  newspaper  sales\n",
            "0           1  230.1   37.8       69.2   22.1\n",
            "1           2   44.5   39.3       45.1   10.4\n",
            "2           3   17.2   45.9       69.3    9.3\n",
            "3           4  151.5   41.3       58.5   18.5\n",
            "4           5  180.8   10.8       58.4   12.9\n"
          ]
        }
      ],
      "source": [
        "#ваш код\n",
        "import pandas as pd\n",
        "import numpy as np\n",
        "\n",
        "# Загрузка файла Advertising.csv\n",
        "data = pd.read_csv(\"Advertising.csv\")\n",
        "\n",
        "# Просмотр первых строк данных\n",
        "print(data.head())"
      ]
    },
    {
      "cell_type": "markdown",
      "metadata": {
        "id": "bf4aVFndDUKf"
      },
      "source": [
        "**Проверьте, есть ли в данных пропуски и, если они есть - удалите их**"
      ]
    },
    {
      "cell_type": "code",
      "execution_count": 2,
      "metadata": {
        "id": "tiVeFnR5DUKg"
      },
      "outputs": [
        {
          "name": "stdout",
          "output_type": "stream",
          "text": [
            "Количество пропусков в каждом столбце:\n",
            "Unnamed: 0    0\n",
            "TV            0\n",
            "radio         0\n",
            "newspaper     0\n",
            "sales         0\n",
            "dtype: int64\n",
            "\n",
            "Пропусков в данных нет.\n",
            "\n",
            "Первые строки после удаления пропусков (если они были):\n",
            "   Unnamed: 0     TV  radio  newspaper  sales\n",
            "0           1  230.1   37.8       69.2   22.1\n",
            "1           2   44.5   39.3       45.1   10.4\n",
            "2           3   17.2   45.9       69.3    9.3\n",
            "3           4  151.5   41.3       58.5   18.5\n",
            "4           5  180.8   10.8       58.4   12.9\n"
          ]
        }
      ],
      "source": [
        "#ваш код\n",
        "# Проверка наличия пропусков в данных\n",
        "missing_data = data.isnull().sum()\n",
        "print(\"Количество пропусков в каждом столбце:\")\n",
        "print(missing_data)\n",
        "\n",
        "# Удаление строк с пропусками, если они есть\n",
        "if missing_data.sum() > 0:\n",
        "    data = data.dropna()\n",
        "    print(\"\\nПропуски были обнаружены и удалены.\")\n",
        "else:\n",
        "    print(\"\\nПропусков в данных нет.\")\n",
        "\n",
        "# Просмотр данных после обработки\n",
        "print(\"\\nПервые строки после удаления пропусков (если они были):\")\n",
        "print(data.head())\n"
      ]
    },
    {
      "cell_type": "markdown",
      "metadata": {
        "id": "rTkiqPr_DUKh"
      },
      "source": [
        "**Преобразуйте ваши признаки в массивы NumPy и разделите их на переменные X (предикторы) и y(целевая переменная)** "
      ]
    },
    {
      "cell_type": "code",
      "execution_count": 4,
      "metadata": {
        "id": "R9OHIRB3a_Xa"
      },
      "outputs": [
        {
          "name": "stdout",
          "output_type": "stream",
          "text": [
            "Форма X (предикторы): (200, 3)\n",
            "Форма y (целевая переменная): (200,)\n"
          ]
        }
      ],
      "source": [
        "#ваш код\n",
        "# Разделение на предикторы (X) и целевую переменную (y)\n",
        "X = data[[\"TV\", \"radio\", \"newspaper\"]].values  # Признаки (предикторы)\n",
        "y = data[\"sales\"].values  # Целевая переменная\n",
        "\n",
        "# Проверим формы массивов\n",
        "print(\"Форма X (предикторы):\", X.shape)\n",
        "print(\"Форма y (целевая переменная):\", y.shape)\n"
      ]
    },
    {
      "cell_type": "markdown",
      "metadata": {
        "id": "KCvjSoHEDUKo"
      },
      "source": [
        "## Координатный спуск (3 балла)"
      ]
    },
    {
      "cell_type": "markdown",
      "metadata": {
        "id": "yjNm8dATDUKq"
      },
      "source": [
        "**Добавим единичный столбец для того, чтобы у нас был свободный коэффициент в уравнении регрессии:**"
      ]
    },
    {
      "cell_type": "code",
      "execution_count": null,
      "metadata": {
        "id": "LMgq0fmKDUKr"
      },
      "outputs": [],
      "source": [
        "import numpy as np\n",
        "X = np.hstack([np.ones(X.shape[0]).reshape(-1, 1), X])"
      ]
    },
    {
      "cell_type": "markdown",
      "metadata": {
        "id": "R008OQwcDUKt"
      },
      "source": [
        "**Нормализуем данные: обычно это необходимо для корректной работы алгоритма**"
      ]
    },
    {
      "cell_type": "code",
      "execution_count": null,
      "metadata": {
        "id": "2Sk7Wx-SDUKt"
      },
      "outputs": [],
      "source": [
        "X = X / np.sqrt(np.sum(np.square(X), axis=0))"
      ]
    },
    {
      "cell_type": "markdown",
      "metadata": {
        "id": "F_pHHbAdDUKu"
      },
      "source": [
        "**Реализуйте алгоритм координатного спуска:** (3 балла)\n",
        "\n",
        "Ниже приведен алгоритм:"
      ]
    },
    {
      "cell_type": "markdown",
      "metadata": {
        "id": "jBQ8vT5UDUKu"
      },
      "source": [
        "<a href=\"https://ibb.co/Th3BQFn\"><img src=\"https://i.ibb.co/DK2DBS6/zascas.jpg\" alt=\"zascas\" border=\"0\"></a>"
      ]
    },
    {
      "cell_type": "markdown",
      "metadata": {
        "id": "5ce_yM20DUKv"
      },
      "source": [
        "Примечание: 1000 итераций здесь указаны для этого задания, на самом деле их может быть намного больше, нет детерменированного значения."
      ]
    },
    {
      "cell_type": "markdown",
      "metadata": {
        "id": "y3IdiHm9DUKv"
      },
      "source": [
        "Вам необходимо реализовать координатный спуск, и вывести веса в модели линейной регрессии."
      ]
    },
    {
      "cell_type": "code",
      "execution_count": 17,
      "metadata": {
        "id": "Vsi3d9OfDUKw"
      },
      "outputs": [
        {
          "name": "stdout",
          "output_type": "stream",
          "text": [
            "Итоговые веса модели (координатный спуск): [-2.12966299e+00  1.06963050e-14  2.11612320e+01  1.41281732e+01\n",
            " -1.05693513e-01]\n"
          ]
        }
      ],
      "source": [
        "# Увеличение числа итераций\n",
        "num_iterations = 5000\n",
        "\n",
        "# Точность (порог для остановки)\n",
        "tolerance = 1e-6\n",
        "\n",
        "# Координатный спуск\n",
        "w = np.zeros(X.shape[1])\n",
        "for _ in range(num_iterations):\n",
        "    r = y - np.dot(X, w)  # Остатки\n",
        "    prev_w = np.copy(w)  # Для проверки изменения весов\n",
        "    for j in range(X.shape[1]):\n",
        "        numerator = np.dot(X[:, j], r + X[:, j] * w[j])\n",
        "        denominator = np.dot(X[:, j], X[:, j])\n",
        "        if denominator != 0:\n",
        "            w[j] = numerator / denominator\n",
        "        r = y - np.dot(X, w)\n",
        "    # Проверка сходимости\n",
        "    if np.linalg.norm(w - prev_w) < tolerance:\n",
        "        break\n",
        "\n",
        "print(\"Итоговые веса модели (координатный спуск):\", w)\n"
      ]
    },
    {
      "cell_type": "markdown",
      "metadata": {
        "id": "a3jG-7UADUKx"
      },
      "source": [
        "Сравните результаты с реализацией линейной регрессии из библиотеки sklearn:"
      ]
    },
    {
      "cell_type": "code",
      "execution_count": 18,
      "metadata": {
        "id": "SBl-1Yb5DUKy"
      },
      "outputs": [
        {
          "name": "stdout",
          "output_type": "stream",
          "text": [
            "[-2.11906762 -0.14984071 21.16123164 14.1281713  -0.10569215]\n"
          ]
        }
      ],
      "source": [
        "from sklearn.linear_model import LinearRegression\n",
        " \n",
        "model = LinearRegression(fit_intercept=False)\n",
        "model.fit(X, y)\n",
        " \n",
        "print(model.coef_)"
      ]
    },
    {
      "cell_type": "markdown",
      "metadata": {
        "id": "hIl0AGLyDUKy"
      },
      "source": [
        "Если вы все сделали верно, они должны практически совпасть!"
      ]
    },
    {
      "cell_type": "markdown",
      "metadata": {
        "id": "VCGwFnPdDUKz"
      },
      "source": [
        "## Стохастический градиентный спуск (6 баллов)"
      ]
    },
    {
      "cell_type": "markdown",
      "metadata": {
        "id": "5u7Q2YJla_Xk"
      },
      "source": [
        "**Отмасштабируйте столбцы исходной матрицы *X* (которую мы не нормализовали еще!). Для того, чтобы это сделать, надо вычесть из каждого значения среднее и разделить на стандартное отклонение** (0.5 баллов)"
      ]
    },
    {
      "cell_type": "code",
      "execution_count": 20,
      "metadata": {
        "id": "9cEpV_5La_Xo"
      },
      "outputs": [
        {
          "name": "stdout",
          "output_type": "stream",
          "text": [
            "Столбцы с нулевым стандартным отклонением: [0]\n",
            "Среднее значение каждого столбца после масштабирования: [ 0.00000000e+00  1.00000000e+00 -3.55271368e-17 -2.22044605e-16\n",
            " -1.24344979e-16]\n",
            "Стандартное отклонение каждого столбца после масштабирования: [0. 0. 1. 1. 1.]\n"
          ]
        }
      ],
      "source": [
        "# Вычисляем среднее и стандартное отклонение для каждого столбца\n",
        "X_mean = np.mean(X, axis=0)\n",
        "X_std = np.std(X, axis=0)\n",
        "\n",
        "# Обнаружим столбцы с нулевым стандартным отклонением\n",
        "zero_std_columns = np.where(X_std == 0)[0]\n",
        "if zero_std_columns.size > 0:\n",
        "    print(f\"Столбцы с нулевым стандартным отклонением: {zero_std_columns}\")\n",
        "    # Устанавливаем std для таких столбцов равным 1, чтобы избежать деления на 0\n",
        "    X_std[zero_std_columns] = 1\n",
        "\n",
        "# Масштабируем X\n",
        "X_scaled = (X - X_mean) / X_std\n",
        "\n",
        "# Проверим результат\n",
        "print(\"Среднее значение каждого столбца после масштабирования:\", X_scaled.mean(axis=0))\n",
        "print(\"Стандартное отклонение каждого столбца после масштабирования:\", X_scaled.std(axis=0))\n"
      ]
    },
    {
      "cell_type": "markdown",
      "metadata": {
        "id": "8WkNYILHDUK1"
      },
      "source": [
        "**Добавим единичный столбец**"
      ]
    },
    {
      "cell_type": "code",
      "execution_count": null,
      "metadata": {
        "id": "EVl5tEGtDUK1"
      },
      "outputs": [],
      "source": [
        "X = np.hstack([np.ones(X.shape[0]).reshape(-1, 1), X])"
      ]
    },
    {
      "cell_type": "markdown",
      "metadata": {
        "id": "m53tZA5fDUK1"
      },
      "source": [
        "**Создайте функцию mse_error для вычисления среднеквадратичной ошибки, принимающую два аргумента: реальные значения и предсказывающие, и возвращающую значение mse** (0.5 балла)"
      ]
    },
    {
      "cell_type": "code",
      "execution_count": 23,
      "metadata": {
        "id": "0cvtC08Aa_YK"
      },
      "outputs": [],
      "source": [
        "#ваш код\n",
        "def mse_error(y_true, y_pred):\n",
        "    \"\"\"\n",
        "    Вычисляет среднеквадратичную ошибку (MSE).\n",
        "    Args:\n",
        "        y_true: Массив реальных значений.\n",
        "        y_pred: Массив предсказанных значений.\n",
        "    Returns:\n",
        "        mse: Среднеквадратичная ошибка.\n",
        "    \"\"\"\n",
        "    mse = np.mean((y_true - y_pred) ** 2)\n",
        "    return mse\n"
      ]
    },
    {
      "cell_type": "markdown",
      "metadata": {
        "id": "lpOLhdvBDUK2"
      },
      "source": [
        "**Сделайте наивный прогноз: предскажите продажи средним значением. После этого рассчитайте среднеквадратичную ошибку для этого прогноза** (0.5 балла)"
      ]
    },
    {
      "cell_type": "code",
      "execution_count": 31,
      "metadata": {
        "id": "kLV_XljVa_YZ"
      },
      "outputs": [
        {
          "name": "stdout",
          "output_type": "stream",
          "text": [
            "Среднее значение целевой переменной (наивный прогноз): 0.0\n",
            "MSE для наивного прогноза: 1.0\n"
          ]
        }
      ],
      "source": [
        "#ваш код\n",
        "# Наивный прогноз: предсказание средним значением\n",
        "y_mean = np.mean(y)  # Среднее значение целевой переменной\n",
        "y_pred_naive = np.full_like(y, y_mean)  # Все предсказания равны среднему значению\n",
        "\n",
        "# Расчет MSE для наивного прогноза\n",
        "mse_naive = mse_error(y, y_pred_naive)\n",
        "\n",
        "# Вывод результатов\n",
        "print(\"Среднее значение целевой переменной (наивный прогноз):\", y_mean)\n",
        "print(\"MSE для наивного прогноза:\", mse_naive)\n",
        "\n"
      ]
    },
    {
      "cell_type": "markdown",
      "metadata": {
        "id": "BbybL2ola_ZM"
      },
      "source": [
        "**Создайте функцию *lin_pred*, которая может по матрице предикторов *X* и вектору весов линейной модели *w* получить вектор прогнозов** (0.5 балла)"
      ]
    },
    {
      "cell_type": "code",
      "execution_count": 26,
      "metadata": {
        "id": "1Cyz-Luaa_ZO"
      },
      "outputs": [],
      "source": [
        "#ваш код\n",
        "def lin_pred(X, w):\n",
        "    \"\"\"\n",
        "    Вычисляет прогнозы линейной модели.\n",
        "    \n",
        "    Args:\n",
        "        X: Матрица предикторов (n_samples, n_features).\n",
        "        w: Вектор весов модели (n_features, ).\n",
        "        \n",
        "    Returns:\n",
        "        y_pred: Вектор прогнозов (n_samples, ).\n",
        "    \"\"\"\n",
        "    y_pred = np.dot(X, w)\n",
        "    return y_pred\n",
        "\n"
      ]
    },
    {
      "cell_type": "markdown",
      "metadata": {
        "id": "BU4adBrya_Zm"
      },
      "source": [
        "**Создайте функцию *stoch_grad_step* для реализации шага стохастического градиентного спуска. (1.5 балла) \n",
        "Функция должна принимать на вход следующие аргументы:**\n",
        "* матрицу *X*\n",
        "* вектора *y* и *w*\n",
        "* число *train_ind* - индекс объекта обучающей выборки (строки матрицы *X*), по которому считается изменение весов\n",
        "* число *$\\eta$* (eta) - шаг градиентного спуска\n",
        "\n",
        "Результатом будет вектор обновленных весов"
      ]
    },
    {
      "cell_type": "markdown",
      "metadata": {
        "id": "dyLY-P02DUK5"
      },
      "source": [
        "Шаг для стохастического градиентного спуска выглядит следующим образом:"
      ]
    },
    {
      "cell_type": "markdown",
      "metadata": {
        "id": "ORsAyIKNDUK5"
      },
      "source": [
        "$$\\Large w_j \\leftarrow w_j - \\frac{2\\eta}{\\ell} \\sum_{i=1}^\\ell{{x_{ij}((w_0 + w_1x_{i1} + w_2x_{i2} +  w_3x_{i3}) - y_i)}}$$"
      ]
    },
    {
      "cell_type": "markdown",
      "metadata": {
        "id": "CQl2FrpuDUK6"
      },
      "source": [
        "Для того, чтобы написать функцию, нужно сделать следующее:\n",
        "    \n",
        "*  посчитать направление изменения: умножить объект обучающей выборки на 2 и на разницу между предсказанным значением и реальным, а потом поделить на количество элементов в выборке.\n",
        "* вернуть разницу между вектором весов и направлением изменения, умноженным на шаг градиентного спуска"
      ]
    },
    {
      "cell_type": "code",
      "execution_count": 28,
      "metadata": {
        "id": "YUhVQGsja_Zn"
      },
      "outputs": [],
      "source": [
        "#ваш код\n",
        "def stoch_grad_step(X, y, w, train_ind, eta):\n",
        "    \"\"\"\n",
        "    Реализует шаг стохастического градиентного спуска.\n",
        "    \n",
        "    Args:\n",
        "        X: Матрица предикторов (n_samples, n_features).\n",
        "        y: Вектор целевой переменной (n_samples, ).\n",
        "        w: Вектор текущих весов модели (n_features, ).\n",
        "        train_ind: Индекс объекта обучающей выборки.\n",
        "        eta: Шаг градиентного спуска.\n",
        "    \n",
        "    Returns:\n",
        "        w_updated: Обновленный вектор весов (n_features, ).\n",
        "    \"\"\"\n",
        "    # Количество элементов в выборке\n",
        "    l = X.shape[0]\n",
        "    \n",
        "    # Вычисление предсказания для train_ind\n",
        "    y_pred = np.dot(X[train_ind], w)\n",
        "    \n",
        "    # Вычисление направления изменения\n",
        "    grad = (2 / l) * X[train_ind] * (y_pred - y[train_ind])\n",
        "    \n",
        "    # Обновление весов\n",
        "    w_updated = w - eta * grad\n",
        "    \n",
        "    return w_updated\n"
      ]
    },
    {
      "cell_type": "markdown",
      "metadata": {
        "id": "pXwIFd0Ma_Zx"
      },
      "source": [
        "**Создайте функцию *stochastic_gradient_descent*, для реализации стохастического градиентного спуска (2.5 балла)**\n",
        "\n",
        "**Функция принимает на вход следующие аргументы:**\n",
        "- Матрицу признаков X\n",
        "- Целевую переменнную\n",
        "- Изначальную точку (веса модели)\n",
        "- Параметр, определяющий темп обучения\n",
        "- Максимальное число итераций\n",
        "- Евклидово расстояние между векторами весов на соседних итерациях градиентного спуска,при котором алгоритм прекращает работу \n",
        "\n",
        "**На каждой итерации в вектор (список) должно записываться текущее значение среднеквадратичной ошибки. Функция должна возвращать вектор весов $w$, а также вектор (список) ошибок.**"
      ]
    },
    {
      "cell_type": "markdown",
      "metadata": {
        "id": "ZVeoNF1JDUK7"
      },
      "source": [
        "Алгоритм сследующий:\n",
        "    \n",
        "* Инициализируйте расстояние между векторами весов на соседних итерациях большим числом (можно бесконечностью)\n",
        "* Создайте пустой список для фиксации ошибок\n",
        "* Создайте счетчик итераций\n",
        "* Реализуйте оновной цикл обучения пока расстояние между векторами весов больше того, при котором надо прекратить работу (когда расстояния станут слишком маленькими - значит, мы застряли в одном месте) и количество итераций меньше максимально разрешенного: сгенерируйте случайный индекс, запишите текущую ошибку в вектор ошибок, запишите в переменную текущий шаг стохастического спуска с использованием функции, написанной ранее. Далее рассчитайте текущее расстояние между векторами весов и прибавьте к счетчику итераций 1.\n",
        "* Верните вектор весов и вектор ошибок"
      ]
    },
    {
      "cell_type": "code",
      "execution_count": 32,
      "metadata": {
        "id": "CD_xcFNfa_Zy"
      },
      "outputs": [
        {
          "name": "stdout",
          "output_type": "stream",
          "text": [
            "Финальные веса: [0.70761259 2.09745593]\n",
            "Список ошибок (первые 5 значений): [np.float64(51.666666666666664), np.float64(40.75346666666667), np.float64(38.07041656296297), np.float64(30.042306738202075), np.float64(23.718596452525947)]\n"
          ]
        }
      ],
      "source": [
        "# ваш код\n",
        "import numpy as np\n",
        "\n",
        "def stochastic_gradient_descent(X, y, w_init, eta, max_iter, tol):\n",
        "    \"\"\"\n",
        "    Реализует алгоритм стохастического градиентного спуска.\n",
        "    \n",
        "    Args:\n",
        "        X: Матрица признаков (n_samples, n_features).\n",
        "        y: Целевая переменная (n_samples, ).\n",
        "        w_init: Инициализирующий вектор весов (n_features, ).\n",
        "        eta: Темп обучения.\n",
        "        max_iter: Максимальное количество итераций.\n",
        "        tol: Порог для евклидового расстояния между весами.\n",
        "    \n",
        "    Returns:\n",
        "        w: Финальный вектор весов (n_features, ).\n",
        "        errors: Список значений среднеквадратичной ошибки на каждой итерации.\n",
        "    \"\"\"\n",
        "    # Инициализация\n",
        "    w = w_init\n",
        "    prev_w = w_init.copy()\n",
        "    distance = float('inf')  # Начальное расстояние между весами\n",
        "    errors = []  # Список для фиксации ошибок\n",
        "    iter_count = 0  # Счетчик итераций\n",
        "\n",
        "    # Основной цикл обучения\n",
        "    while distance > tol and iter_count < max_iter:\n",
        "        # Случайный индекс строки\n",
        "        train_ind = np.random.randint(0, X.shape[0])\n",
        "        \n",
        "        # Вычисление текущей ошибки и сохранение в список\n",
        "        y_pred = lin_pred(X, w)  # Используем ранее написанную функцию lin_pred\n",
        "        mse = mse_error(y, y_pred)  # Используем функцию mse_error\n",
        "        errors.append(mse)\n",
        "        \n",
        "        # Обновление весов\n",
        "        w = stoch_grad_step(X, y, w, train_ind, eta)\n",
        "        \n",
        "        # Вычисление расстояния между векторами весов\n",
        "        distance = np.linalg.norm(w - prev_w)\n",
        "        \n",
        "        # Сохранение текущего вектора весов\n",
        "        prev_w = w.copy()\n",
        "        \n",
        "        # Увеличение счетчика итераций\n",
        "        iter_count += 1\n",
        "\n",
        "    return w, errors\n",
        "\n",
        "# Пример использования\n",
        "np.random.seed(42)\n",
        "X_example = np.array([[1, 2], [1, 3], [1, 4]])\n",
        "y_example = np.array([5, 7, 9])\n",
        "w_init_example = np.zeros(X_example.shape[1])\n",
        "eta_example = 0.01\n",
        "max_iter_example = 1000\n",
        "tol_example = 1e-6\n",
        "\n",
        "w_final, errors = stochastic_gradient_descent(X_example, y_example, w_init_example, eta_example, max_iter_example, tol_example)\n",
        "\n",
        "print(\"Финальные веса:\", w_final)\n",
        "print(\"Список ошибок (первые 5 значений):\", errors[:5])\n"
      ]
    },
    {
      "cell_type": "markdown",
      "metadata": {
        "id": "0OqHO1Rta_Z7"
      },
      "source": [
        " **Запустите $10^5$ итераций стохастического градиентного спуска. Укажите вектор начальных весов, состоящий из нулей. Можете поэкспериментировать с параметром, отвечающим за темп обучения.**"
      ]
    },
    {
      "cell_type": "markdown",
      "metadata": {
        "id": "N6fHHT6vDUK8"
      },
      "source": [
        "**Постройте график зависимости ошибки от номера итерации**"
      ]
    },
    {
      "cell_type": "code",
      "execution_count": 34,
      "metadata": {
        "id": "zsSfHDzLDUK9"
      },
      "outputs": [
        {
          "data": {
            "image/png": "[encoded data removed]",
            "text/plain": [
              "<Figure size 1000x600 with 1 Axes>"
            ]
          },
          "metadata": {},
          "output_type": "display_data"
        }
      ],
      "source": [
        "# ваш код\n",
        "import matplotlib.pyplot as plt\n",
        "\n",
        "# Параметры для запуска стохастического градиентного спуска\n",
        "np.random.seed(42)\n",
        "X_example = np.random.rand(100, 3)  # Признаки (100 объектов, 3 признака)\n",
        "y_example = np.random.rand(100) * 10  # Целевая переменная\n",
        "\n",
        "# Инициализация весов и параметров\n",
        "w_init_example = np.zeros(X_example.shape[1] + 1)  # Вектор начальных весов (включая свободный коэффициент)\n",
        "eta_example = 0.01  # Темп обучения\n",
        "max_iter_example = 10**5  # Максимальное количество итераций\n",
        "tol_example = 1e-6  # Порог для сходимости\n",
        "\n",
        "# Добавление столбца единиц для свободного коэффициента\n",
        "X_example = np.hstack([np.ones((X_example.shape[0], 1)), X_example])\n",
        "\n",
        "# Запуск стохастического градиентного спуска\n",
        "w_final, errors = stochastic_gradient_descent(\n",
        "    X_example, y_example, w_init_example, eta_example, max_iter_example, tol_example\n",
        ")\n",
        "\n",
        "# Построение графика зависимости ошибки от номера итерации\n",
        "plt.figure(figsize=(10, 6))\n",
        "plt.plot(range(len(errors)), errors, label=\"MSE\")\n",
        "plt.xlabel(\"Номер итерации\")\n",
        "plt.ylabel(\"Среднеквадратичная ошибка (MSE)\")\n",
        "plt.title(\"Зависимость ошибки от номера итерации (SGD)\")\n",
        "plt.legend()\n",
        "plt.grid(True)\n",
        "plt.show()"
      ]
    },
    {
      "cell_type": "markdown",
      "metadata": {
        "id": "O-MVOcJ6a_aY"
      },
      "source": [
        "**Выведите вектор весов, к которому сошелся метод.**"
      ]
    },
    {
      "cell_type": "code",
      "execution_count": 35,
      "metadata": {
        "id": "MPjVkXe4DUK9"
      },
      "outputs": [
        {
          "name": "stdout",
          "output_type": "stream",
          "text": [
            "Финальный вектор весов (w_final): [0.83565531 0.41299174 0.42367309 0.41618345]\n"
          ]
        }
      ],
      "source": [
        "# ваш код\n",
        "# Вывод финального вектора весов\n",
        "print(\"Финальный вектор весов (w_final):\", w_final)\n"
      ]
    },
    {
      "cell_type": "markdown",
      "metadata": {
        "id": "qabzMc3Qa_a5"
      },
      "source": [
        "**Выведите среднеквадратичную ошибку на последней итерации.**"
      ]
    },
    {
      "cell_type": "code",
      "execution_count": 36,
      "metadata": {
        "id": "7tPWleMIa_a7"
      },
      "outputs": [
        {
          "name": "stdout",
          "output_type": "stream",
          "text": [
            "Среднеквадратичная ошибка на последней итерации (MSE): 20.45889223673923\n"
          ]
        }
      ],
      "source": [
        "# ваш код\n",
        "# Среднеквадратичная ошибка на последней итерации\n",
        "print(\"Среднеквадратичная ошибка на последней итерации (MSE):\", errors[-1])\n"
      ]
    }
  ],
  "metadata": {
    "colab": {
      "collapsed_sections": [],
      "name": "Практика_Оптимизация.ipynb",
      "provenance": [],
      "toc_visible": true
    },
    "kernelspec": {
      "display_name": "Python 3",
      "language": "python",
      "name": "python3"
    },
    "language_info": {
      "codemirror_mode": {
        "name": "ipython",
        "version": 3
      },
      "file_extension": ".py",
      "mimetype": "text/x-python",
      "name": "python",
      "nbconvert_exporter": "python",
      "pygments_lexer": "ipython3",
      "version": "3.9.5"
    }
  },
  "nbformat": 4,
  "nbformat_minor": 0
}
